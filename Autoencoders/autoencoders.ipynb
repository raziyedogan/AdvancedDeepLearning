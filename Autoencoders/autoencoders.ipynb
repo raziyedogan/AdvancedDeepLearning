{
 "cells": [
  {
   "cell_type": "markdown",
   "id": "ea6a09e7",
   "metadata": {},
   "source": [
    "## Autoencoders"
   ]
  },
  {
   "cell_type": "markdown",
   "id": "8052294c",
   "metadata": {},
   "source": [
    "Autoencoders, bir unsupervised learning algoritmasıdır. Bu durumda belirli label'lar yoktur. Autoencoders, dimension reduction yani feature extraction amacıyla kullanılabilir. Denoising amacıyla da kullanılabilir.\n",
    "\n",
    "Bir köpek resmi düşünün. Köpek resminin rengi, boyutu, kulağının uzunluğu gibi bir çok farklı feature'si vardır. Bir köpeği diğer hayvanlardan ayıran bir özelliğini düşünün. Köpeği diğer hayvanlardan ayıran bir özellik sesi olabilir. Autoencoders, bir input'taki en önemli feature'leri extract etmeye çalışıyor. Yani dimension reduction ve feature extraction amaçlarına özetle en az şekilde bilgi kaydetmek denilebilir.\n",
    "\n",
    "Autoencoders ile amaçlanan, input Autoencoders modeline verilir ve output olarak input'un aynısı elde edilir. Yani input, output'a kopyalanır. Eğitilen Autoencoders, input'u output'a kopyalar. Amaç input'u output'a kopyalama işi yapılırken ortaya çıkan feature'leri kullanmaktır. Input, output'a %100 kopyalanıyorsa bunun anlamı güzel feature'ler elde edilmiştir. \n",
    "\n",
    "<br>\n",
    "<img src=\"a1.png\" style=\"width:600px;height:300px\"/> \n",
    "\n",
    "Feature extraction işlemi şöyle yapılmaktadır: bir x resmi var. Input'larda da görüldüğü üzere x'ler var. x encoder'a verilmektedir. Encoder, compress input işlemine yarar. Compress input, input'u ifade edebileceğimiz en iyi feature'leri ortaya çıkarmak demektir. Bu işlemi aktivasyon fonksiyonları, hidden layer'lar ile yapıyor. Mesela f() fonksiyonu encoding yapan bir fonksiyon olsun. f(x) dediğimizde h=f(x) şeklinde h diye bir şey elde ediliyor. h=f(x) encoding function'dur. Şimdi de decoder işlemi yapılacaktır. Compress edilen input'u tekrardan çıkartıp uncompress yapacağız yani compress işleminin zıttı yapılacak. Decoding fonksiyonu g() olsun. h decoder'a giriyor ve r=g(h) şeklinde r sonucu elde ediliyor. Amaç h değerini elde edebilmektir yani feature'leri elde edebilmektir. x'i verdik h'ı elde ettik ve h'ı verdik r'ı elde ettik. Peki x ile r mıdır?: Bunu bulmak için min loss(x,r) ifadesi kullanılır. Bu ifadenin anlamları: x=r olmalıdır, x-r=0 olmalıdır, |x-r|^2=0 olmalıdır. Tüm loss'ların toplamı 0 olmak zorundadır. Bu loss'u machine learning'te mean square error (mse) tabirinden hatırlarsınız :)\n",
    "\n",
    "x-r!=0 ise her zamanki gibi back propagation yapılacak ve weight'ler güncellenerek en doğru sonuç bulunmaya çalışılacaktır.\n",
    "\n",
    "Back propagation tanımını hatırlayalım. Baxk propagation, weight'leri güncellemektir yani modelin train etmesi, öğrenmesi demektir. \n",
    "\n",
    "Model x ve r'ı birbirine eşitlemeye çalışıyor ve ona uygun weight'leri güncelliyor. Ve sonuç olarak faydalı feature'leri öğrenmiş oluyor.\n",
    "\n",
    "Öğrenme işlemi için gerekli olan bir şart input_size < hidden_layer_size'dır. Aksi takdirde öğrenme gerçekleşemez, feature extract edilemez.\n",
    "\n",
    "<font color=\"CadetBlue\"><br>\n",
    "DENOSING:"
   ]
  },
  {
   "cell_type": "markdown",
   "id": "1381ebde",
   "metadata": {},
   "source": [
    "<br>\n",
    "<img src=\"a2.png\" style=\"width:600px;height:300px\"/> \n",
    "\n",
    "Denosing, hatalardan temizleme anlamına gelmektedir.\n",
    "\n",
    "Bir köpek resmi olsun. Bu resme bir noise verelim. Bu işlemin ardından yeni bir resim elde edilir. Corrupted image elde edilir. Corrupted image, orjinal köpek resmine noise eklenmesi sonucunda elde edilen resimdir. Sonra bunu input olarak autoencoder'e veriyoruz. Daha sonra elde edilen sonuçları orjinal resme veririz. Bu durumda sonuçlar orjinal resim olur. Böylelikle eklemiş olduğumuz noise öğrenilmiş oluyor ve corrupted image ile karşılaşıldığında denosing edilebilecek seviyeye erişiliyor."
   ]
  },
  {
   "cell_type": "markdown",
   "id": "ddf93751",
   "metadata": {},
   "source": [
    "<br>\n",
    "<img src=\"a3.png\" style=\"width:300px;height:200px\"/> \n",
    "\n",
    "Yukarıda bir örnek görmekteyiz. Üst taraftaki grafikte bir sinüs dalgası bulunmaktadır. Bu grafiğe biraz noise ekleniyor ve aşağıdaki grafik elde ediliyor. Alttaki grafik input olarak veriliyor  ve output olarak üst taraftaki orjinal grafiğin çıkması bekleniyor. Böylece eklemiş olduğumuz noise öğreniliyor. Bu gerçek hayatta karşımıza çıktığında alt taraftaki grafiği autoencoder modeline veririz ve bu denosing işlemini yapar ve olması gereken sinyal ortaya çıkar.\n",
    "\n",
    "Bu işlemin kullanımı hem resimlerin olduğu veri setlerinde hem de sinyal işlemede fayda sağlamaktadır."
   ]
  },
  {
   "cell_type": "code",
   "execution_count": 1,
   "id": "ffe27c32",
   "metadata": {},
   "outputs": [],
   "source": [
    "from keras.models import Model\n",
    "from keras.layers import Input, Dense\n",
    "from keras.datasets import fashion_mnist\n",
    "import matplotlib.pyplot as plt\n",
    "import json, codecs\n",
    "import warnings\n",
    "warnings.filterwarnings(\"ignore\")"
   ]
  },
  {
   "cell_type": "code",
   "execution_count": 4,
   "id": "1ef5190a",
   "metadata": {},
   "outputs": [
    {
     "name": "stdout",
     "output_type": "stream",
     "text": [
      "Downloading data from https://storage.googleapis.com/tensorflow/tf-keras-datasets/train-labels-idx1-ubyte.gz\n",
      "29515/29515 [==============================] - 0s 4us/step\n",
      "Downloading data from https://storage.googleapis.com/tensorflow/tf-keras-datasets/train-images-idx3-ubyte.gz\n",
      "26421880/26421880 [==============================] - 17s 1us/step\n",
      "Downloading data from https://storage.googleapis.com/tensorflow/tf-keras-datasets/t10k-labels-idx1-ubyte.gz\n",
      "5148/5148 [==============================] - 0s 0s/step\n",
      "Downloading data from https://storage.googleapis.com/tensorflow/tf-keras-datasets/t10k-images-idx3-ubyte.gz\n",
      "4422102/4422102 [==============================] - 4s 1us/step\n"
     ]
    }
   ],
   "source": [
    "#fashion veri setini yükleyelim.\n",
    "(x_train, _), (x_test, _) = fashion_mnist.load_data()"
   ]
  },
  {
   "cell_type": "markdown",
   "id": "6892cecb",
   "metadata": {},
   "source": [
    "Unsupervised işlemi yapılacaktır dolayısıyla label'lara ihtiyaç yoktur. Input'ta output'ta train edilecek feature'ler olacaktır. Dolayısıyla y_train kullanılmayacağından (x_train, _) şeklinde _ ile ifade edebiliriz."
   ]
  },
  {
   "cell_type": "code",
   "execution_count": 5,
   "id": "2ed0ba8f",
   "metadata": {},
   "outputs": [],
   "source": [
    "x_train = x_train.astype(\"float32\") / 255.0\n",
    "x_test = x_test.astype(\"float32\") / 255.0"
   ]
  },
  {
   "cell_type": "code",
   "execution_count": 6,
   "id": "5a130e43",
   "metadata": {},
   "outputs": [],
   "source": [
    "x_train = x_train.reshape((len(x_train), x_train.shape[1:][0]*x_train.shape[1:][1]))\n",
    "x_test = x_test.reshape((len(x_test), x_test.shape[1:][0]*x_test.shape[1:][1]))"
   ]
  },
  {
   "cell_type": "markdown",
   "id": "6706513e",
   "metadata": {},
   "source": [
    "x_train ve x_test içerisinde 28x28 boyutunda 10000 tane resim vardır. Toplamda 70000 tane resim mevcuttur. Yukarıdaki kod bloğu ile 28x28 tek bir vektör haline getirilmiştir.\n",
    "\n",
    "Şimdi veri seti içeriğine göz atalım."
   ]
  },
  {
   "cell_type": "code",
   "execution_count": 8,
   "id": "c2a96d92",
   "metadata": {},
   "outputs": [
    {
     "data": {
      "image/png": "[encoded data removed]",
      "text/plain": [
       "<Figure size 640x480 with 1 Axes>"
      ]
     },
     "metadata": {},
     "output_type": "display_data"
    }
   ],
   "source": [
    "plt.imshow(x_train[4000].reshape(28,28)) \n",
    "#Görselleştirme işlemi için x_train'in 4000 indeksli resmini 28x28 boyutuna geri döndürdük.\n",
    "plt.axis(\"off\")\n",
    "plt.show()"
   ]
  },
  {
   "cell_type": "markdown",
   "id": "7a9ed004",
   "metadata": {},
   "source": [
    "Yukarıdaki çıktıda görüldüğü üzere veri seti modaya dair olduğundan bir çanta resmi görülmektedir."
   ]
  },
  {
   "cell_type": "markdown",
   "id": "49f45ddd",
   "metadata": {},
   "source": [
    "<br>\n",
    "<img src=\"a4.png\" style=\"width:300px;height:200px\"/> \n",
    "\n",
    "Yukarıdaki görseli açıklayalım. Veri seti içerisinde 28x28 resimler vardır. Bu resimleri 784 satırdan 1 tane sütundan oluşan bir vektör haline getirdik. Bu vektör içerisinde fashion veri setindeki her bir resim bulunmaktadır.\n",
    "\n",
    "Şimdi Autoencoder modeli oluşturalım. Bunun için bir input layer'a ihtiyaç vardır. Resmin boyutu 784 olduğu için input layer'ında 784 tane nöron vardır. Sonrasında 32 tane nörondan oluşan encoder layer oluşturulmuştur. Unutmayalım ki encoder layer, hidden layer'dır. Sonrasında 16 tane nörondan oluşan encoder layer oluşturulmuştur. Sonrasında 32 nörondan oluşan decoded layer oluşturulmuştur. Sonrasında 784 nörondan oluşan output layer oluşturulmuştur."
   ]
  },
  {
   "cell_type": "code",
   "execution_count": 10,
   "id": "6be3419b",
   "metadata": {},
   "outputs": [],
   "source": [
    "input_img = Input(shape = (784,))\n",
    "\n",
    "encoded = Dense(32, activation=\"relu\")(input_img)\n",
    "\n",
    "encoded = Dense(16, activation=\"relu\")(encoded)\n",
    "\n",
    "decoded = Dense(32, activation=\"relu\")(encoded)\n",
    "\n",
    "decoded = Dense(784, activation=\"sigmoid\")(decoded)\n",
    "\n",
    "autoencoder = Model(input_img,decoded)\n"
   ]
  },
  {
   "cell_type": "markdown",
   "id": "d4f3c735",
   "metadata": {},
   "source": [
    "encoded = Dense(32, activation=\"relu\")(input_img) satırında (input_img) kısmına bir önceki layer'ı yazarak katmanların birbirine bağlanmasını sağlamış oluyoruz.\n",
    "\n",
    "Yukarıdaki kod bloğunda autoencoder = Model(input_img,decoded) satırına kadarki kısımlarda autoencoder'ı oluşturduğumuza göre bunu bir autoencoder değişkeninde depolamalıyız ve bu satırda da yapılan işlem budur. Parametrelerde input_img başlangıçtır ve decoded'te son layer'dır.\n",
    "\n",
    "Bu işlemlerin görseli şu şekildedir:\n",
    "\n",
    "\n",
    "<br>\n",
    "<img src=\"a5.png\" style=\"width:500px;height:300px\"/> \n",
    "\n",
    "Bu aşamaya kadar autoencoder modeli oluşturulmuştur. Artık compile edebiliriz."
   ]
  },
  {
   "cell_type": "code",
   "execution_count": 11,
   "id": "3d953d9c",
   "metadata": {},
   "outputs": [],
   "source": [
    "autoencoder.compile(optimizer=\"rmsprop\",loss=\"binary_crossentropy\")"
   ]
  },
  {
   "cell_type": "code",
   "execution_count": 12,
   "id": "69033a66",
   "metadata": {},
   "outputs": [
    {
     "name": "stdout",
     "output_type": "stream",
     "text": [
      "Epoch 1/200\n",
      "235/235 [==============================] - 8s 18ms/step - loss: 0.3991 - val_loss: 0.3462\n",
      "Epoch 2/200\n",
      "235/235 [==============================] - 4s 16ms/step - loss: 0.3348 - val_loss: 0.3260\n",
      "Epoch 3/200\n",
      "235/235 [==============================] - 3s 15ms/step - loss: 0.3231 - val_loss: 0.3214\n",
      "Epoch 4/200\n",
      "235/235 [==============================] - 3s 14ms/step - loss: 0.3175 - val_loss: 0.3131\n",
      "Epoch 5/200\n",
      "235/235 [==============================] - 3s 14ms/step - loss: 0.3138 - val_loss: 0.3112\n",
      "Epoch 6/200\n",
      "235/235 [==============================] - 3s 14ms/step - loss: 0.3109 - val_loss: 0.3103\n",
      "Epoch 7/200\n",
      "235/235 [==============================] - 3s 13ms/step - loss: 0.3087 - val_loss: 0.3078\n",
      "Epoch 8/200\n",
      "235/235 [==============================] - 3s 14ms/step - loss: 0.3069 - val_loss: 0.3072\n",
      "Epoch 9/200\n",
      "235/235 [==============================] - 3s 14ms/step - loss: 0.3053 - val_loss: 0.3050\n",
      "Epoch 10/200\n",
      "235/235 [==============================] - 3s 14ms/step - loss: 0.3039 - val_loss: 0.3031\n",
      "Epoch 11/200\n",
      "235/235 [==============================] - 3s 14ms/step - loss: 0.3028 - val_loss: 0.3018\n",
      "Epoch 12/200\n",
      "235/235 [==============================] - 3s 15ms/step - loss: 0.3017 - val_loss: 0.3012\n",
      "Epoch 13/200\n",
      "235/235 [==============================] - 3s 14ms/step - loss: 0.3008 - val_loss: 0.3004\n",
      "Epoch 14/200\n",
      "235/235 [==============================] - 3s 14ms/step - loss: 0.3001 - val_loss: 0.2986\n",
      "Epoch 15/200\n",
      "235/235 [==============================] - 3s 14ms/step - loss: 0.2993 - val_loss: 0.2989\n",
      "Epoch 16/200\n",
      "235/235 [==============================] - 3s 14ms/step - loss: 0.2987 - val_loss: 0.2982\n",
      "Epoch 17/200\n",
      "235/235 [==============================] - 3s 14ms/step - loss: 0.2981 - val_loss: 0.2980\n",
      "Epoch 18/200\n",
      "235/235 [==============================] - 4s 15ms/step - loss: 0.2976 - val_loss: 0.2971\n",
      "Epoch 19/200\n",
      "235/235 [==============================] - 3s 14ms/step - loss: 0.2970 - val_loss: 0.2985\n",
      "Epoch 20/200\n",
      "235/235 [==============================] - 4s 15ms/step - loss: 0.2966 - val_loss: 0.2964\n",
      "Epoch 21/200\n",
      "235/235 [==============================] - 3s 15ms/step - loss: 0.2962 - val_loss: 0.2946\n",
      "Epoch 22/200\n",
      "235/235 [==============================] - 4s 16ms/step - loss: 0.2957 - val_loss: 0.2961\n",
      "Epoch 23/200\n",
      "235/235 [==============================] - 3s 14ms/step - loss: 0.2955 - val_loss: 0.2950\n",
      "Epoch 24/200\n",
      "235/235 [==============================] - 4s 15ms/step - loss: 0.2951 - val_loss: 0.2945\n",
      "Epoch 25/200\n",
      "235/235 [==============================] - 3s 14ms/step - loss: 0.2948 - val_loss: 0.2939\n",
      "Epoch 26/200\n",
      "235/235 [==============================] - 4s 16ms/step - loss: 0.2945 - val_loss: 0.2944\n",
      "Epoch 27/200\n",
      "235/235 [==============================] - 3s 14ms/step - loss: 0.2941 - val_loss: 0.2938\n",
      "Epoch 28/200\n",
      "235/235 [==============================] - 3s 15ms/step - loss: 0.2939 - val_loss: 0.2955\n",
      "Epoch 29/200\n",
      "235/235 [==============================] - 3s 13ms/step - loss: 0.2936 - val_loss: 0.2925\n",
      "Epoch 30/200\n",
      "235/235 [==============================] - 3s 15ms/step - loss: 0.2934 - val_loss: 0.2939\n",
      "Epoch 31/200\n",
      "235/235 [==============================] - 4s 15ms/step - loss: 0.2931 - val_loss: 0.2928\n",
      "Epoch 32/200\n",
      "235/235 [==============================] - 3s 14ms/step - loss: 0.2929 - val_loss: 0.2927\n",
      "Epoch 33/200\n",
      "235/235 [==============================] - 3s 14ms/step - loss: 0.2927 - val_loss: 0.2924\n",
      "Epoch 34/200\n",
      "235/235 [==============================] - 3s 14ms/step - loss: 0.2925 - val_loss: 0.2918\n",
      "Epoch 35/200\n",
      "235/235 [==============================] - 3s 14ms/step - loss: 0.2923 - val_loss: 0.2934\n",
      "Epoch 36/200\n",
      "235/235 [==============================] - 3s 14ms/step - loss: 0.2921 - val_loss: 0.2923\n",
      "Epoch 37/200\n",
      "235/235 [==============================] - 3s 14ms/step - loss: 0.2919 - val_loss: 0.2924\n",
      "Epoch 38/200\n",
      "235/235 [==============================] - 4s 15ms/step - loss: 0.2918 - val_loss: 0.2915\n",
      "Epoch 39/200\n",
      "235/235 [==============================] - 3s 14ms/step - loss: 0.2916 - val_loss: 0.2914\n",
      "Epoch 40/200\n",
      "235/235 [==============================] - 4s 16ms/step - loss: 0.2915 - val_loss: 0.2911\n",
      "Epoch 41/200\n",
      "235/235 [==============================] - 4s 16ms/step - loss: 0.2913 - val_loss: 0.2912\n",
      "Epoch 42/200\n",
      "235/235 [==============================] - 4s 16ms/step - loss: 0.2912 - val_loss: 0.2913\n",
      "Epoch 43/200\n",
      "235/235 [==============================] - 4s 17ms/step - loss: 0.2910 - val_loss: 0.2907\n",
      "Epoch 44/200\n",
      "235/235 [==============================] - 3s 14ms/step - loss: 0.2909 - val_loss: 0.2913\n",
      "Epoch 45/200\n",
      "235/235 [==============================] - 4s 15ms/step - loss: 0.2908 - val_loss: 0.2904\n",
      "Epoch 46/200\n",
      "235/235 [==============================] - 4s 16ms/step - loss: 0.2906 - val_loss: 0.2901\n",
      "Epoch 47/200\n",
      "235/235 [==============================] - 3s 14ms/step - loss: 0.2905 - val_loss: 0.2914\n",
      "Epoch 48/200\n",
      "235/235 [==============================] - 3s 14ms/step - loss: 0.2904 - val_loss: 0.2910\n",
      "Epoch 49/200\n",
      "235/235 [==============================] - 3s 14ms/step - loss: 0.2903 - val_loss: 0.2902\n",
      "Epoch 50/200\n",
      "235/235 [==============================] - 3s 13ms/step - loss: 0.2902 - val_loss: 0.2896\n",
      "Epoch 51/200\n",
      "235/235 [==============================] - 4s 16ms/step - loss: 0.2901 - val_loss: 0.2892\n",
      "Epoch 52/200\n",
      "235/235 [==============================] - 3s 14ms/step - loss: 0.2900 - val_loss: 0.2894\n",
      "Epoch 53/200\n",
      "235/235 [==============================] - 3s 14ms/step - loss: 0.2899 - val_loss: 0.2893\n",
      "Epoch 54/200\n",
      "235/235 [==============================] - 3s 14ms/step - loss: 0.2898 - val_loss: 0.2912\n",
      "Epoch 55/200\n",
      "235/235 [==============================] - 4s 16ms/step - loss: 0.2898 - val_loss: 0.2896\n",
      "Epoch 56/200\n",
      "235/235 [==============================] - 3s 15ms/step - loss: 0.2897 - val_loss: 0.2891\n",
      "Epoch 57/200\n",
      "235/235 [==============================] - 3s 14ms/step - loss: 0.2896 - val_loss: 0.2906\n",
      "Epoch 58/200\n",
      "235/235 [==============================] - 3s 14ms/step - loss: 0.2895 - val_loss: 0.2897\n",
      "Epoch 59/200\n",
      "235/235 [==============================] - 4s 16ms/step - loss: 0.2894 - val_loss: 0.2902\n",
      "Epoch 60/200\n",
      "235/235 [==============================] - 4s 16ms/step - loss: 0.2893 - val_loss: 0.2893\n",
      "Epoch 61/200\n",
      "235/235 [==============================] - 3s 15ms/step - loss: 0.2893 - val_loss: 0.2896\n",
      "Epoch 62/200\n",
      "235/235 [==============================] - 3s 14ms/step - loss: 0.2892 - val_loss: 0.2884\n",
      "Epoch 63/200\n",
      "235/235 [==============================] - 3s 15ms/step - loss: 0.2891 - val_loss: 0.2892\n",
      "Epoch 64/200\n",
      "235/235 [==============================] - 3s 14ms/step - loss: 0.2890 - val_loss: 0.2890\n",
      "Epoch 65/200\n",
      "235/235 [==============================] - 3s 14ms/step - loss: 0.2890 - val_loss: 0.2890\n",
      "Epoch 66/200\n",
      "235/235 [==============================] - 3s 14ms/step - loss: 0.2889 - val_loss: 0.2900\n",
      "Epoch 67/200\n",
      "235/235 [==============================] - 3s 14ms/step - loss: 0.2889 - val_loss: 0.2891\n",
      "Epoch 68/200\n",
      "235/235 [==============================] - 3s 13ms/step - loss: 0.2888 - val_loss: 0.2892\n",
      "Epoch 69/200\n",
      "235/235 [==============================] - 3s 14ms/step - loss: 0.2887 - val_loss: 0.2881\n",
      "Epoch 70/200\n",
      "235/235 [==============================] - 3s 14ms/step - loss: 0.2887 - val_loss: 0.2885\n",
      "Epoch 71/200\n",
      "235/235 [==============================] - 4s 15ms/step - loss: 0.2886 - val_loss: 0.2884\n",
      "Epoch 72/200\n",
      "235/235 [==============================] - 3s 14ms/step - loss: 0.2885 - val_loss: 0.2886\n",
      "Epoch 73/200\n",
      "235/235 [==============================] - 3s 14ms/step - loss: 0.2885 - val_loss: 0.2887\n",
      "Epoch 74/200\n",
      "235/235 [==============================] - 3s 14ms/step - loss: 0.2884 - val_loss: 0.2879\n",
      "Epoch 75/200\n",
      "235/235 [==============================] - 3s 14ms/step - loss: 0.2884 - val_loss: 0.2894\n",
      "Epoch 76/200\n",
      "235/235 [==============================] - 3s 14ms/step - loss: 0.2884 - val_loss: 0.2898\n",
      "Epoch 77/200\n",
      "235/235 [==============================] - 3s 14ms/step - loss: 0.2883 - val_loss: 0.2882\n",
      "Epoch 78/200\n",
      "235/235 [==============================] - 4s 17ms/step - loss: 0.2883 - val_loss: 0.2876\n",
      "Epoch 79/200\n",
      "235/235 [==============================] - 4s 15ms/step - loss: 0.2882 - val_loss: 0.2883\n",
      "Epoch 80/200\n"
     ]
    },
    {
     "name": "stdout",
     "output_type": "stream",
     "text": [
      "235/235 [==============================] - 3s 13ms/step - loss: 0.2882 - val_loss: 0.2879\n",
      "Epoch 81/200\n",
      "235/235 [==============================] - 3s 14ms/step - loss: 0.2881 - val_loss: 0.2881\n",
      "Epoch 82/200\n",
      "235/235 [==============================] - 3s 14ms/step - loss: 0.2881 - val_loss: 0.2872\n",
      "Epoch 83/200\n",
      "235/235 [==============================] - 3s 13ms/step - loss: 0.2880 - val_loss: 0.2883\n",
      "Epoch 84/200\n",
      "235/235 [==============================] - 3s 14ms/step - loss: 0.2880 - val_loss: 0.2870\n",
      "Epoch 85/200\n",
      "235/235 [==============================] - 3s 14ms/step - loss: 0.2880 - val_loss: 0.2889\n",
      "Epoch 86/200\n",
      "235/235 [==============================] - 3s 14ms/step - loss: 0.2879 - val_loss: 0.2883\n",
      "Epoch 87/200\n",
      "235/235 [==============================] - 3s 14ms/step - loss: 0.2879 - val_loss: 0.2891\n",
      "Epoch 88/200\n",
      "235/235 [==============================] - 3s 14ms/step - loss: 0.2878 - val_loss: 0.2877\n",
      "Epoch 89/200\n",
      "235/235 [==============================] - 3s 14ms/step - loss: 0.2878 - val_loss: 0.2875\n",
      "Epoch 90/200\n",
      "235/235 [==============================] - 3s 14ms/step - loss: 0.2878 - val_loss: 0.2881\n",
      "Epoch 91/200\n",
      "235/235 [==============================] - 3s 14ms/step - loss: 0.2877 - val_loss: 0.2884\n",
      "Epoch 92/200\n",
      "235/235 [==============================] - 3s 14ms/step - loss: 0.2877 - val_loss: 0.2891\n",
      "Epoch 93/200\n",
      "235/235 [==============================] - 3s 15ms/step - loss: 0.2877 - val_loss: 0.2877\n",
      "Epoch 94/200\n",
      "235/235 [==============================] - 4s 17ms/step - loss: 0.2876 - val_loss: 0.2875\n",
      "Epoch 95/200\n",
      "235/235 [==============================] - 3s 14ms/step - loss: 0.2876 - val_loss: 0.2879\n",
      "Epoch 96/200\n",
      "235/235 [==============================] - 4s 16ms/step - loss: 0.2876 - val_loss: 0.2877\n",
      "Epoch 97/200\n",
      "235/235 [==============================] - 3s 14ms/step - loss: 0.2875 - val_loss: 0.2874\n",
      "Epoch 98/200\n",
      "235/235 [==============================] - 3s 14ms/step - loss: 0.2875 - val_loss: 0.2882\n",
      "Epoch 99/200\n",
      "235/235 [==============================] - 4s 16ms/step - loss: 0.2875 - val_loss: 0.2884\n",
      "Epoch 100/200\n",
      "235/235 [==============================] - 3s 15ms/step - loss: 0.2875 - val_loss: 0.2882\n",
      "Epoch 101/200\n",
      "235/235 [==============================] - 3s 14ms/step - loss: 0.2874 - val_loss: 0.2894\n",
      "Epoch 102/200\n",
      "235/235 [==============================] - 3s 14ms/step - loss: 0.2874 - val_loss: 0.2887\n",
      "Epoch 103/200\n",
      "235/235 [==============================] - 3s 13ms/step - loss: 0.2874 - val_loss: 0.2875\n",
      "Epoch 104/200\n",
      "235/235 [==============================] - 3s 15ms/step - loss: 0.2873 - val_loss: 0.2876\n",
      "Epoch 105/200\n",
      "235/235 [==============================] - 3s 14ms/step - loss: 0.2873 - val_loss: 0.2874\n",
      "Epoch 106/200\n",
      "235/235 [==============================] - 3s 15ms/step - loss: 0.2873 - val_loss: 0.2873\n",
      "Epoch 107/200\n",
      "235/235 [==============================] - 4s 16ms/step - loss: 0.2872 - val_loss: 0.2876\n",
      "Epoch 108/200\n",
      "235/235 [==============================] - 3s 14ms/step - loss: 0.2872 - val_loss: 0.2870\n",
      "Epoch 109/200\n",
      "235/235 [==============================] - 4s 17ms/step - loss: 0.2872 - val_loss: 0.2871\n",
      "Epoch 110/200\n",
      "235/235 [==============================] - 3s 15ms/step - loss: 0.2872 - val_loss: 0.2879\n",
      "Epoch 111/200\n",
      "235/235 [==============================] - 3s 14ms/step - loss: 0.2871 - val_loss: 0.2877\n",
      "Epoch 112/200\n",
      "235/235 [==============================] - 3s 13ms/step - loss: 0.2871 - val_loss: 0.2872\n",
      "Epoch 113/200\n",
      "235/235 [==============================] - 3s 12ms/step - loss: 0.2871 - val_loss: 0.2869\n",
      "Epoch 114/200\n",
      "235/235 [==============================] - 3s 12ms/step - loss: 0.2871 - val_loss: 0.2880\n",
      "Epoch 115/200\n",
      "235/235 [==============================] - 3s 12ms/step - loss: 0.2870 - val_loss: 0.2874\n",
      "Epoch 116/200\n",
      "235/235 [==============================] - 3s 12ms/step - loss: 0.2870 - val_loss: 0.2870\n",
      "Epoch 117/200\n",
      "235/235 [==============================] - 3s 13ms/step - loss: 0.2870 - val_loss: 0.2867\n",
      "Epoch 118/200\n",
      "235/235 [==============================] - 3s 14ms/step - loss: 0.2870 - val_loss: 0.2870\n",
      "Epoch 119/200\n",
      "235/235 [==============================] - 3s 14ms/step - loss: 0.2870 - val_loss: 0.2870\n",
      "Epoch 120/200\n",
      "235/235 [==============================] - 4s 16ms/step - loss: 0.2869 - val_loss: 0.2887\n",
      "Epoch 121/200\n",
      "235/235 [==============================] - 3s 14ms/step - loss: 0.2869 - val_loss: 0.2862\n",
      "Epoch 122/200\n",
      "235/235 [==============================] - 3s 14ms/step - loss: 0.2869 - val_loss: 0.2865\n",
      "Epoch 123/200\n",
      "235/235 [==============================] - 3s 13ms/step - loss: 0.2869 - val_loss: 0.2873\n",
      "Epoch 124/200\n",
      "235/235 [==============================] - 3s 13ms/step - loss: 0.2869 - val_loss: 0.2877\n",
      "Epoch 125/200\n",
      "235/235 [==============================] - 3s 13ms/step - loss: 0.2869 - val_loss: 0.2870\n",
      "Epoch 126/200\n",
      "235/235 [==============================] - 3s 13ms/step - loss: 0.2868 - val_loss: 0.2876\n",
      "Epoch 127/200\n",
      "235/235 [==============================] - 3s 13ms/step - loss: 0.2868 - val_loss: 0.2865\n",
      "Epoch 128/200\n",
      "235/235 [==============================] - 3s 12ms/step - loss: 0.2868 - val_loss: 0.2864\n",
      "Epoch 129/200\n",
      "235/235 [==============================] - 3s 13ms/step - loss: 0.2868 - val_loss: 0.2867\n",
      "Epoch 130/200\n",
      "235/235 [==============================] - 8s 32ms/step - loss: 0.2868 - val_loss: 0.2866\n",
      "Epoch 131/200\n",
      "235/235 [==============================] - 3s 12ms/step - loss: 0.2867 - val_loss: 0.2866\n",
      "Epoch 132/200\n",
      "235/235 [==============================] - 3s 14ms/step - loss: 0.2867 - val_loss: 0.2888\n",
      "Epoch 133/200\n",
      "235/235 [==============================] - 3s 14ms/step - loss: 0.2867 - val_loss: 0.2875\n",
      "Epoch 134/200\n",
      "235/235 [==============================] - 7s 32ms/step - loss: 0.2867 - val_loss: 0.2869\n",
      "Epoch 135/200\n",
      "235/235 [==============================] - 3s 13ms/step - loss: 0.2867 - val_loss: 0.2876\n",
      "Epoch 136/200\n",
      "235/235 [==============================] - 3s 13ms/step - loss: 0.2867 - val_loss: 0.2880\n",
      "Epoch 137/200\n",
      "235/235 [==============================] - 3s 13ms/step - loss: 0.2867 - val_loss: 0.2872\n",
      "Epoch 138/200\n",
      "235/235 [==============================] - 3s 14ms/step - loss: 0.2866 - val_loss: 0.2860\n",
      "Epoch 139/200\n",
      "235/235 [==============================] - 3s 12ms/step - loss: 0.2866 - val_loss: 0.2868\n",
      "Epoch 140/200\n",
      "235/235 [==============================] - 3s 13ms/step - loss: 0.2866 - val_loss: 0.2868\n",
      "Epoch 141/200\n",
      "235/235 [==============================] - 3s 11ms/step - loss: 0.2866 - val_loss: 0.2881\n",
      "Epoch 142/200\n",
      "235/235 [==============================] - 3s 12ms/step - loss: 0.2866 - val_loss: 0.2861\n",
      "Epoch 143/200\n",
      "235/235 [==============================] - 3s 12ms/step - loss: 0.2865 - val_loss: 0.2867\n",
      "Epoch 144/200\n",
      "235/235 [==============================] - 3s 13ms/step - loss: 0.2865 - val_loss: 0.2872\n",
      "Epoch 145/200\n",
      "235/235 [==============================] - 3s 13ms/step - loss: 0.2865 - val_loss: 0.2866\n",
      "Epoch 146/200\n",
      "235/235 [==============================] - 3s 14ms/step - loss: 0.2865 - val_loss: 0.2868\n",
      "Epoch 147/200\n",
      "235/235 [==============================] - 3s 13ms/step - loss: 0.2865 - val_loss: 0.2860\n",
      "Epoch 148/200\n",
      "235/235 [==============================] - 3s 14ms/step - loss: 0.2865 - val_loss: 0.2862\n",
      "Epoch 149/200\n",
      "235/235 [==============================] - 3s 14ms/step - loss: 0.2865 - val_loss: 0.2871\n",
      "Epoch 150/200\n",
      "235/235 [==============================] - 3s 14ms/step - loss: 0.2865 - val_loss: 0.2868\n",
      "Epoch 151/200\n",
      "235/235 [==============================] - 3s 14ms/step - loss: 0.2864 - val_loss: 0.2866\n",
      "Epoch 152/200\n",
      "235/235 [==============================] - 3s 13ms/step - loss: 0.2864 - val_loss: 0.2868\n",
      "Epoch 153/200\n",
      "235/235 [==============================] - 3s 13ms/step - loss: 0.2864 - val_loss: 0.2873\n",
      "Epoch 154/200\n",
      "235/235 [==============================] - 3s 14ms/step - loss: 0.2864 - val_loss: 0.2871\n",
      "Epoch 155/200\n",
      "235/235 [==============================] - 3s 14ms/step - loss: 0.2864 - val_loss: 0.2870\n",
      "Epoch 156/200\n",
      "235/235 [==============================] - 3s 14ms/step - loss: 0.2864 - val_loss: 0.2866\n",
      "Epoch 157/200\n",
      "235/235 [==============================] - 3s 13ms/step - loss: 0.2864 - val_loss: 0.2868\n",
      "Epoch 158/200\n",
      "235/235 [==============================] - 3s 12ms/step - loss: 0.2864 - val_loss: 0.2866\n",
      "Epoch 159/200\n"
     ]
    },
    {
     "name": "stdout",
     "output_type": "stream",
     "text": [
      "235/235 [==============================] - 3s 12ms/step - loss: 0.2863 - val_loss: 0.2863\n",
      "Epoch 160/200\n",
      "235/235 [==============================] - 3s 12ms/step - loss: 0.2863 - val_loss: 0.2861\n",
      "Epoch 161/200\n",
      "235/235 [==============================] - 3s 11ms/step - loss: 0.2863 - val_loss: 0.2868\n",
      "Epoch 162/200\n",
      "235/235 [==============================] - 3s 11ms/step - loss: 0.2863 - val_loss: 0.2863\n",
      "Epoch 163/200\n",
      "235/235 [==============================] - 3s 11ms/step - loss: 0.2863 - val_loss: 0.2865\n",
      "Epoch 164/200\n",
      "235/235 [==============================] - 3s 11ms/step - loss: 0.2863 - val_loss: 0.2874\n",
      "Epoch 165/200\n",
      "235/235 [==============================] - 3s 11ms/step - loss: 0.2863 - val_loss: 0.2872\n",
      "Epoch 166/200\n",
      "235/235 [==============================] - 3s 11ms/step - loss: 0.2863 - val_loss: 0.2863\n",
      "Epoch 167/200\n",
      "235/235 [==============================] - 3s 12ms/step - loss: 0.2862 - val_loss: 0.2857\n",
      "Epoch 168/200\n",
      "235/235 [==============================] - 3s 12ms/step - loss: 0.2862 - val_loss: 0.2865\n",
      "Epoch 169/200\n",
      "235/235 [==============================] - 3s 11ms/step - loss: 0.2862 - val_loss: 0.2869\n",
      "Epoch 170/200\n",
      "235/235 [==============================] - 3s 11ms/step - loss: 0.2862 - val_loss: 0.2866\n",
      "Epoch 171/200\n",
      "235/235 [==============================] - 3s 11ms/step - loss: 0.2862 - val_loss: 0.2863\n",
      "Epoch 172/200\n",
      "235/235 [==============================] - 3s 11ms/step - loss: 0.2862 - val_loss: 0.2856\n",
      "Epoch 173/200\n",
      "235/235 [==============================] - 3s 11ms/step - loss: 0.2862 - val_loss: 0.2863\n",
      "Epoch 174/200\n",
      "235/235 [==============================] - 3s 11ms/step - loss: 0.2862 - val_loss: 0.2860\n",
      "Epoch 175/200\n",
      "235/235 [==============================] - 3s 11ms/step - loss: 0.2862 - val_loss: 0.2869\n",
      "Epoch 176/200\n",
      "235/235 [==============================] - 3s 12ms/step - loss: 0.2862 - val_loss: 0.2864\n",
      "Epoch 177/200\n",
      "235/235 [==============================] - 3s 11ms/step - loss: 0.2861 - val_loss: 0.2866\n",
      "Epoch 178/200\n",
      "235/235 [==============================] - 3s 11ms/step - loss: 0.2861 - val_loss: 0.2866\n",
      "Epoch 179/200\n",
      "235/235 [==============================] - 3s 12ms/step - loss: 0.2861 - val_loss: 0.2873\n",
      "Epoch 180/200\n",
      "235/235 [==============================] - 3s 11ms/step - loss: 0.2861 - val_loss: 0.2854\n",
      "Epoch 181/200\n",
      "235/235 [==============================] - 3s 11ms/step - loss: 0.2861 - val_loss: 0.2854\n",
      "Epoch 182/200\n",
      "235/235 [==============================] - 3s 12ms/step - loss: 0.2861 - val_loss: 0.2865\n",
      "Epoch 183/200\n",
      "235/235 [==============================] - 3s 12ms/step - loss: 0.2861 - val_loss: 0.2861\n",
      "Epoch 184/200\n",
      "235/235 [==============================] - 3s 11ms/step - loss: 0.2861 - val_loss: 0.2864\n",
      "Epoch 185/200\n",
      "235/235 [==============================] - 3s 12ms/step - loss: 0.2861 - val_loss: 0.2859\n",
      "Epoch 186/200\n",
      "235/235 [==============================] - 3s 12ms/step - loss: 0.2861 - val_loss: 0.2860\n",
      "Epoch 187/200\n",
      "235/235 [==============================] - 3s 11ms/step - loss: 0.2861 - val_loss: 0.2859\n",
      "Epoch 188/200\n",
      "235/235 [==============================] - 3s 11ms/step - loss: 0.2861 - val_loss: 0.2857\n",
      "Epoch 189/200\n",
      "235/235 [==============================] - 3s 11ms/step - loss: 0.2861 - val_loss: 0.2863\n",
      "Epoch 190/200\n",
      "235/235 [==============================] - 3s 11ms/step - loss: 0.2860 - val_loss: 0.2860\n",
      "Epoch 191/200\n",
      "235/235 [==============================] - 3s 12ms/step - loss: 0.2860 - val_loss: 0.2860\n",
      "Epoch 192/200\n",
      "235/235 [==============================] - 3s 12ms/step - loss: 0.2860 - val_loss: 0.2869\n",
      "Epoch 193/200\n",
      "235/235 [==============================] - 3s 13ms/step - loss: 0.2860 - val_loss: 0.2870\n",
      "Epoch 194/200\n",
      "235/235 [==============================] - 3s 11ms/step - loss: 0.2860 - val_loss: 0.2862\n",
      "Epoch 195/200\n",
      "235/235 [==============================] - 3s 11ms/step - loss: 0.2860 - val_loss: 0.2863\n",
      "Epoch 196/200\n",
      "235/235 [==============================] - 3s 12ms/step - loss: 0.2860 - val_loss: 0.2861\n",
      "Epoch 197/200\n",
      "235/235 [==============================] - 3s 12ms/step - loss: 0.2860 - val_loss: 0.2861\n",
      "Epoch 198/200\n",
      "235/235 [==============================] - 3s 11ms/step - loss: 0.2860 - val_loss: 0.2859\n",
      "Epoch 199/200\n",
      "235/235 [==============================] - 3s 11ms/step - loss: 0.2860 - val_loss: 0.2857\n",
      "Epoch 200/200\n",
      "235/235 [==============================] - 3s 12ms/step - loss: 0.2860 - val_loss: 0.2873\n"
     ]
    }
   ],
   "source": [
    "hist = autoencoder.fit(x_train,\n",
    "                       x_train,\n",
    "                       epochs=200,\n",
    "                       batch_size=256,\n",
    "                       shuffle=True,\n",
    "                       validation_data = (x_train,x_train))"
   ]
  },
  {
   "cell_type": "code",
   "execution_count": 13,
   "id": "76dc6590",
   "metadata": {},
   "outputs": [],
   "source": [
    "# save model\n",
    "autoencoder.save_weights(\"autoencoder_model.h5\")  #weight değerleri kaydedilmiştir."
   ]
  },
  {
   "cell_type": "code",
   "execution_count": 14,
   "id": "78c3dbaf",
   "metadata": {},
   "outputs": [
    {
     "name": "stdout",
     "output_type": "stream",
     "text": [
      "dict_keys(['loss', 'val_loss'])\n"
     ]
    }
   ],
   "source": [
    "#evaluation\n",
    "print(hist.history.keys())"
   ]
  },
  {
   "cell_type": "markdown",
   "id": "f4931d0f",
   "metadata": {},
   "source": [
    "Değerlendirme için elde edilen sonuçlar görselleştirilmelidir. Sonuçları modeli eğitirken hist isimli bir değişkene kaydetmiştik."
   ]
  },
  {
   "cell_type": "code",
   "execution_count": 26,
   "id": "9c3452cb",
   "metadata": {},
   "outputs": [
    {
     "data": {
      "image/png": "[encoded data removed]",
      "text/plain": [
       "<Figure size 640x480 with 1 Axes>"
      ]
     },
     "metadata": {},
     "output_type": "display_data"
    }
   ],
   "source": [
    "plt.plot(hist.history[\"loss\"],label = \"Train loss\")\n",
    "plt.plot(hist.history[\"val_loss\"],label = \"Val loss\")\n",
    "plt.legend()\n",
    "plt.show()"
   ]
  },
  {
   "cell_type": "code",
   "execution_count": 27,
   "id": "7564d0fc",
   "metadata": {},
   "outputs": [],
   "source": [
    "# save history (hist)\n",
    "with open(\"autoencoders_hist.json\",\"w\") as f:\n",
    "    json.dump(hist.history,f)"
   ]
  },
  {
   "cell_type": "code",
   "execution_count": 28,
   "id": "6b8f0657",
   "metadata": {},
   "outputs": [],
   "source": [
    "# load history\n",
    "with codecs.open(\"autoencoders_hist.json\",\"r\", encoding=\"utf-8\")  as f:\n",
    "    n = json.loads(f.read())"
   ]
  },
  {
   "cell_type": "code",
   "execution_count": 29,
   "id": "0f72418f",
   "metadata": {},
   "outputs": [
    {
     "name": "stdout",
     "output_type": "stream",
     "text": [
      "dict_keys(['loss', 'val_loss'])\n"
     ]
    },
    {
     "data": {
      "text/plain": [
       "[<matplotlib.lines.Line2D at 0x2c43c1cf850>]"
      ]
     },
     "execution_count": 29,
     "metadata": {},
     "output_type": "execute_result"
    },
    {
     "data": {
      "image/png": "[encoded data removed]",
      "text/plain": [
       "<Figure size 640x480 with 1 Axes>"
      ]
     },
     "metadata": {},
     "output_type": "display_data"
    }
   ],
   "source": [
    "print(n.keys())\n",
    "plt.plot(n[\"loss\"],label = \"Train loss\")\n",
    "plt.plot(n[\"val_loss\"],label = \"Val loss\")"
   ]
  },
  {
   "cell_type": "markdown",
   "id": "a8011ecb",
   "metadata": {},
   "source": [
    "Autoencoder modeline gerçek bir fashion mnis veri setinden resim yollayacağız ve output layer'da neler gördüğümüzü test edeceğiz. Birde 2.hidden layer'da (2.encoder'da) elde ettiğimiz şeyi görselleştireceğiz ve sonuçları inceleyeceğiz. Önemli feature'leri inceleyeceğiz. Bunun için 2 tane modele ihtiyaç var. Birincisi encoder modelidir ve ikincisi de input'tan başlayıp 2.hidden layer'a kadar olan bölgeyi kapsayan modeldir. \n",
    "\n",
    "Şimdi encoder modelini oluşturalım."
   ]
  },
  {
   "cell_type": "code",
   "execution_count": 30,
   "id": "b8758d66",
   "metadata": {},
   "outputs": [
    {
     "name": "stdout",
     "output_type": "stream",
     "text": [
      "313/313 [==============================] - 1s 2ms/step\n"
     ]
    }
   ],
   "source": [
    "encoder = Model(input_img,encoded)\n",
    "encoded_img = encoder.predict(x_test)"
   ]
  },
  {
   "cell_type": "code",
   "execution_count": 21,
   "id": "897e4216",
   "metadata": {},
   "outputs": [
    {
     "data": {
      "image/png": "[encoded data removed]",
      "text/plain": [
       "<Figure size 640x480 with 1 Axes>"
      ]
     },
     "metadata": {},
     "output_type": "display_data"
    }
   ],
   "source": [
    "plt.imshow(x_test[1500].reshape(28,28))\n",
    "plt.axis(\"off\")\n",
    "plt.show()"
   ]
  },
  {
   "cell_type": "code",
   "execution_count": 22,
   "id": "0e25bd42",
   "metadata": {},
   "outputs": [
    {
     "data": {
      "image/png": "[encoded data removed]",
      "text/plain": [
       "<Figure size 640x480 with 1 Axes>"
      ]
     },
     "metadata": {},
     "output_type": "display_data"
    }
   ],
   "source": [
    "plt.figure()\n",
    "plt.imshow(encoded_img[1500].reshape(4,4))\n",
    "plt.axis(\"off\")\n",
    "plt.show()"
   ]
  },
  {
   "cell_type": "markdown",
   "id": "f74872ed",
   "metadata": {},
   "source": [
    "2.hidden layer'ın sonucunda yukarıdaki çıktıda gördüğünüz görsel elde edilmektedir.\n",
    "\n",
    "Şimdi baştan sonra bir input verelim ve output'ta elde edilenlere bakalım."
   ]
  },
  {
   "cell_type": "code",
   "execution_count": 31,
   "id": "bf1c8e37",
   "metadata": {},
   "outputs": [
    {
     "name": "stdout",
     "output_type": "stream",
     "text": [
      "313/313 [==============================] - 1s 3ms/step\n"
     ]
    }
   ],
   "source": [
    "decoded_imgs = autoencoder.predict(x_test)"
   ]
  },
  {
   "cell_type": "code",
   "execution_count": 32,
   "id": "f1ce87e6",
   "metadata": {},
   "outputs": [
    {
     "data": {
      "image/png": "[encoded data removed]",
      "text/plain": [
       "<Figure size 2000x400 with 20 Axes>"
      ]
     },
     "metadata": {},
     "output_type": "display_data"
    }
   ],
   "source": [
    "n = 10\n",
    "plt.figure(figsize=(20, 4))\n",
    "for i in range(n):\n",
    "    # display original\n",
    "    ax = plt.subplot(2, n, i+1)\n",
    "    plt.imshow(x_test[i].reshape(28, 28))\n",
    "    plt.axis(\"off\")\n",
    "\n",
    "    # display reconstruction\n",
    "    ax = plt.subplot(2, n, i + n+1)\n",
    "    plt.imshow(decoded_imgs[i].reshape(28, 28))\n",
    "    plt.axis(\"off\")\n",
    "plt.show()"
   ]
  },
  {
   "cell_type": "markdown",
   "id": "fcdb55df",
   "metadata": {},
   "source": [
    "Çıktıyı inceleyelim. Üstteki resimler orjinal resimlerdir. Alttaki resimler de orjinal resimleri autoencoder'a verdikten sonra ortaya çıkan output'lardır. Görüldüğü üzere orjinal resimler ile output'taki resimler %100 aynı değildir. Ama şekiller büyük ölçüde autoencoder'in output'unda görülmektedir."
   ]
  }
 ],
 "metadata": {
  "kernelspec": {
   "display_name": "Python 3 (ipykernel)",
   "language": "python",
   "name": "python3"
  },
  "language_info": {
   "codemirror_mode": {
    "name": "ipython",
    "version": 3
   },
   "file_extension": ".py",
   "mimetype": "text/x-python",
   "name": "python",
   "nbconvert_exporter": "python",
   "pygments_lexer": "ipython3",
   "version": "3.9.12"
  }
 },
 "nbformat": 4,
 "nbformat_minor": 5
}
