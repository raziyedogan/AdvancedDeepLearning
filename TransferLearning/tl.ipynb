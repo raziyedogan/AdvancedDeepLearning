{
 "cells": [
  {
   "cell_type": "markdown",
   "id": "6878b0dd",
   "metadata": {},
   "source": [
    "## Transfer Learning"
   ]
  },
  {
   "cell_type": "markdown",
   "id": "d71792e2",
   "metadata": {},
   "source": [
    "Çalışmada kullanılan veri setine https://www.kaggle.com/datasets/moltean/fruits linkinden ulaşabilirsiniz."
   ]
  },
  {
   "cell_type": "markdown",
   "id": "423e7c95",
   "metadata": {},
   "source": [
    "Transfer learning, öğrenilen bilginin transferi anlamına gelmektedir.\n",
    "\n",
    "<br>\n",
    "<img src=\"t1.png\" align=\"left\" style=\"width:600px;height:100px\"/> "
   ]
  },
  {
   "cell_type": "markdown",
   "id": "d308d36f",
   "metadata": {},
   "source": [
    "Yukarıdaki CNN yapısını eğittiğimiz zaman filtreler ve fully connected layer'daki weight'ler öğrenilmektedir. Filtrelerde weight'lerden oluştuğu için özetle weight'ler öğreniliyor denilebilir.\n",
    "\n",
    "<br>\n",
    "<img src=\"t2.png\" align=\"left\" style=\"width:600px;height:300px\"/> "
   ]
  },
  {
   "cell_type": "markdown",
   "id": "1376f035",
   "metadata": {},
   "source": [
    "İnput'lar 10 farklı class'a ait resimlerdir. Şekilde gördüğünüz kırmızı daireler katmanlardır. İlk katmanda low level feature'ler öğrenilmiştir. Ve bu katmandan kesilerek sağ altta gördüğünüz mavi daireler ile yeni neural network yapısını kurdum. İlk baştaki 10 tane class'tan farklı olarak yeni class'ları eğitmeye başladım. Yeni class koyulduğu için input'ta değişti. Yani daha önceden elde edilen low level kısmında elde edilen feature'leri kullanarak yani pretrained feature'leri kullanarak yeni class için fine tuning yaptım. Kesilen yere kadar ki weight'ler daha önceki dataset'ten öğrenilmiş weight'lerdir.\n",
    "\n",
    "<br>\n",
    "<img src=\"t3.png\" align=\"left\" style=\"width:600px;height:300px\"/> "
   ]
  },
  {
   "cell_type": "markdown",
   "id": "f310802f",
   "metadata": {},
   "source": [
    "Yukarıdaki görseli açıklayayım. kedi ve köpek class'ları için eğitim gerçekleştirilmiştir. Sonrasında kedi ve köpek class'larına birde bird class'ı eklenmiştir. Bu durumda en baştan tekrar eğitim gerçekleştirmek yerine kedi ve köpek class'ları için eğitilen yapıda sigmoid'in hemen öncesinden kesilir ve pretrained modelin en sonuna softmax eklenir. Ve sonucunda output elde edilir. pretrained kısmını freeze ederiz yani dondururuz, giçbir şekilde engellemeyiz. Eski kedi ve köpek class resimleri olan input yerine yeni kedi, köpek ve kuş resimlerinin olduğu input'u veririz. Kesilen kısma kadarki weight'ler değişmez. Bir tek son katmandan softmax'e bağlanan weight ve output'a giden weight değişir. Böylece yeni veri setine pretrained modeli adapte etmiş oluruz. Bunada fine tuned denir.\n",
    "\n",
    "Bu işlem çok fazla layer'ı olan network'ler için zaman kaybını önler. Ayrıca mesela 1000 layer'a sahip network'ü bizim bilgisayarlarımızı eğitemez. Transfer Learning tiplerini bulan insanlar milyonlarca veriseti kullanarak çok güçlü bilgisayarlarda eğitip bize bunları sağlıyorlar. Bu yüzden çok güçlü bir network kullanmak istiyorsak baştan sona eğitemeyiz, o network'ü transfer learning ile kendi kullanmak istediğimiz verisetine entegre edebiliriz.\n",
    "\n",
    "Transfer learning konusunda kullanılan tüm modeller kendilerini ispat etmiş, hyperparameter değerleri ayarlanmıştır. "
   ]
  },
  {
   "cell_type": "markdown",
   "id": "8f7b36a1",
   "metadata": {},
   "source": [
    "ResNet transfer learning'te kullanılabilmektedir. ResNet default olarak 152 tane layer'dan oluşmaktadır. \n",
    "\n",
    "ResNet, vanishing gradient modeline çözüm ürettiği için transfer learning'te en başarılı model olarak nitelendirilmektedir.\n",
    "\n",
    "VGG-19 ifadesinde 19 değeri layer sayısını göstermektedir. 16 tane katman var ise VGG-16'dır. VGG, farklı farklı convolutional layer'ın ard arda dizilmesiyle ortaya çıkan bir yapıdır.\n",
    "\n"
   ]
  },
  {
   "cell_type": "markdown",
   "id": "1597dffd",
   "metadata": {},
   "source": [
    "VGG-19 ve ResNet-152 modellerini transfer learning uygulamasında kullanacağız. Bu modellerin bir veri seti tarafından eğitilmiş olması gerekiyor. Keras ImageNet isimli bir veri seti tarafından eğittiği VGG ve ResNet modellerini sağlıyor.\n",
    "\n",
    "ImageNet 14 milyondan fazla resimden ve 1000 tane class'tan oluşan bir veri setidir. VGG ve ResNet bununla eğitilmiş feature extraction çıkartılmış, weight'ler belirlenmiş en optimum hyperparameter tone edilmiş iki tane model bizlerin kullanabilmesi için sunulmuştur."
   ]
  },
  {
   "cell_type": "code",
   "execution_count": 1,
   "id": "57aa8d91",
   "metadata": {},
   "outputs": [],
   "source": [
    "from keras.preprocessing.image import ImageDataGenerator\n",
    "from keras.models import Sequential\n",
    "from keras.layers import Dense, Flatten\n",
    "from keras.applications.vgg16 import VGG16  #VGG16 modeli import edilmiştir.\n",
    "import matplotlib.pyplot as plt\n",
    "from glob import glob"
   ]
  },
  {
   "cell_type": "code",
   "execution_count": 2,
   "id": "e7fc3df1",
   "metadata": {},
   "outputs": [],
   "source": [
    "train_path = \"C:/Users/raziy/OneDrive/Masaüstü/Caner hocanın attıkları/KURS ÇALIŞMALARIM/Deep Learning ve Python İleri Seviye Derin Öğrenme (5.1)/4-TransferLearning/fruits-360_dataset/fruits-360/Training\"\n",
    "test_path = \"C:/Users/raziy/OneDrive/Masaüstü/Caner hocanın attıkları/KURS ÇALIŞMALARIM/Deep Learning ve Python İleri Seviye Derin Öğrenme (5.1)/4-TransferLearning/fruits-360_dataset/fruits-360/Test\""
   ]
  },
  {
   "cell_type": "code",
   "execution_count": 3,
   "id": "c2033e2d",
   "metadata": {},
   "outputs": [],
   "source": [
    "numberOfClass = len(glob(train_path+\"/*\"))"
   ]
  },
  {
   "cell_type": "code",
   "execution_count": 4,
   "id": "15329910",
   "metadata": {},
   "outputs": [
    {
     "data": {
      "text/plain": [
       "131"
      ]
     },
     "execution_count": 4,
     "metadata": {},
     "output_type": "execute_result"
    }
   ],
   "source": [
    "numberOfClass"
   ]
  },
  {
   "cell_type": "code",
   "execution_count": 5,
   "id": "cbad25a1",
   "metadata": {},
   "outputs": [],
   "source": [
    "from keras.applications.vgg16 import VGG16 \n",
    "vgg = VGG16(include_top = False,input_shape = (100,100,3)) #16 layerdan oluşan VGG modeli"
   ]
  },
  {
   "cell_type": "markdown",
   "id": "83bf5005",
   "metadata": {},
   "source": [
    "Yukarıda VGG modeli oluşturulmuştur.\n",
    "\n",
    "Şimdi VGG'nin içerisindeki layer'lara bakalım."
   ]
  },
  {
   "cell_type": "code",
   "execution_count": 6,
   "id": "c3120e7f",
   "metadata": {},
   "outputs": [
    {
     "name": "stdout",
     "output_type": "stream",
     "text": [
      "Model: \"vgg16\"\n",
      "_________________________________________________________________\n",
      " Layer (type)                Output Shape              Param #   \n",
      "=================================================================\n",
      " input_1 (InputLayer)        [(None, 100, 100, 3)]     0         \n",
      "                                                                 \n",
      " block1_conv1 (Conv2D)       (None, 100, 100, 64)      1792      \n",
      "                                                                 \n",
      " block1_conv2 (Conv2D)       (None, 100, 100, 64)      36928     \n",
      "                                                                 \n",
      " block1_pool (MaxPooling2D)  (None, 50, 50, 64)        0         \n",
      "                                                                 \n",
      " block2_conv1 (Conv2D)       (None, 50, 50, 128)       73856     \n",
      "                                                                 \n",
      " block2_conv2 (Conv2D)       (None, 50, 50, 128)       147584    \n",
      "                                                                 \n",
      " block2_pool (MaxPooling2D)  (None, 25, 25, 128)       0         \n",
      "                                                                 \n",
      " block3_conv1 (Conv2D)       (None, 25, 25, 256)       295168    \n",
      "                                                                 \n",
      " block3_conv2 (Conv2D)       (None, 25, 25, 256)       590080    \n",
      "                                                                 \n",
      " block3_conv3 (Conv2D)       (None, 25, 25, 256)       590080    \n",
      "                                                                 \n",
      " block3_pool (MaxPooling2D)  (None, 12, 12, 256)       0         \n",
      "                                                                 \n",
      " block4_conv1 (Conv2D)       (None, 12, 12, 512)       1180160   \n",
      "                                                                 \n",
      " block4_conv2 (Conv2D)       (None, 12, 12, 512)       2359808   \n",
      "                                                                 \n",
      " block4_conv3 (Conv2D)       (None, 12, 12, 512)       2359808   \n",
      "                                                                 \n",
      " block4_pool (MaxPooling2D)  (None, 6, 6, 512)         0         \n",
      "                                                                 \n",
      " block5_conv1 (Conv2D)       (None, 6, 6, 512)         2359808   \n",
      "                                                                 \n",
      " block5_conv2 (Conv2D)       (None, 6, 6, 512)         2359808   \n",
      "                                                                 \n",
      " block5_conv3 (Conv2D)       (None, 6, 6, 512)         2359808   \n",
      "                                                                 \n",
      " block5_pool (MaxPooling2D)  (None, 3, 3, 512)         0         \n",
      "                                                                 \n",
      "=================================================================\n",
      "Total params: 14,714,688\n",
      "Trainable params: 14,714,688\n",
      "Non-trainable params: 0\n",
      "_________________________________________________________________\n",
      "None\n"
     ]
    }
   ],
   "source": [
    "print(vgg.summary())"
   ]
  },
  {
   "cell_type": "code",
   "execution_count": 7,
   "id": "8d8c5743",
   "metadata": {},
   "outputs": [
    {
     "name": "stdout",
     "output_type": "stream",
     "text": [
      "<class 'keras.engine.functional.Functional'>\n"
     ]
    }
   ],
   "source": [
    "print(type(vgg))"
   ]
  },
  {
   "cell_type": "markdown",
   "id": "f39d48b7",
   "metadata": {},
   "source": [
    "Yukarıda görüldüğü üzere vgg bir keras modelidir."
   ]
  },
  {
   "cell_type": "code",
   "execution_count": 8,
   "id": "2893be0d",
   "metadata": {},
   "outputs": [
    {
     "name": "stdout",
     "output_type": "stream",
     "text": [
      "[<keras.engine.input_layer.InputLayer object at 0x0000010D3C7A8C10>, <keras.layers.convolutional.conv2d.Conv2D object at 0x0000010D64168D90>, <keras.layers.convolutional.conv2d.Conv2D object at 0x0000010D60E3E3D0>, <keras.layers.pooling.max_pooling2d.MaxPooling2D object at 0x0000010D641C0760>, <keras.layers.convolutional.conv2d.Conv2D object at 0x0000010D64168FD0>, <keras.layers.convolutional.conv2d.Conv2D object at 0x0000010D05F44430>, <keras.layers.pooling.max_pooling2d.MaxPooling2D object at 0x0000010D05F60A60>, <keras.layers.convolutional.conv2d.Conv2D object at 0x0000010D05F578B0>, <keras.layers.convolutional.conv2d.Conv2D object at 0x0000010D05F60A30>, <keras.layers.convolutional.conv2d.Conv2D object at 0x0000010D05F6D760>, <keras.layers.pooling.max_pooling2d.MaxPooling2D object at 0x0000010D05F684F0>, <keras.layers.convolutional.conv2d.Conv2D object at 0x0000010D05F68430>, <keras.layers.convolutional.conv2d.Conv2D object at 0x0000010D05F740D0>, <keras.layers.convolutional.conv2d.Conv2D object at 0x0000010D05F7C910>, <keras.layers.pooling.max_pooling2d.MaxPooling2D object at 0x0000010D05F68670>, <keras.layers.convolutional.conv2d.Conv2D object at 0x0000010D05F7CC40>, <keras.layers.convolutional.conv2d.Conv2D object at 0x0000010D05F887C0>, <keras.layers.convolutional.conv2d.Conv2D object at 0x0000010D05F88BB0>, <keras.layers.pooling.max_pooling2d.MaxPooling2D object at 0x0000010D05F8F490>]\n"
     ]
    }
   ],
   "source": [
    "vgg_layer_list = vgg.layers\n",
    "print(vgg_layer_list)"
   ]
  },
  {
   "cell_type": "markdown",
   "id": "38481797",
   "metadata": {},
   "source": [
    "Yukarıdaki çıktıda VGG'nin layer'ları görülmektedir. Yukarıdaki kod bloğunun summary() işleminden çok bir farkı yoktur. Sadece liste halinde bir çıktı elde edilmiştir.\n",
    "\n"
   ]
  },
  {
   "cell_type": "code",
   "execution_count": 9,
   "id": "79dc794a",
   "metadata": {},
   "outputs": [
    {
     "data": {
      "text/plain": [
       "19"
      ]
     },
     "execution_count": 9,
     "metadata": {},
     "output_type": "execute_result"
    }
   ],
   "source": [
    "len(vgg_layer_list)"
   ]
  },
  {
   "cell_type": "markdown",
   "id": "7a110b9d",
   "metadata": {},
   "source": [
    "Görüldüğü üzere 23 farklı layer var. Fakat VGG16 ifadesinden anlaşılacağı üzere 16 katmana sahip olmalıydı. Bunun sebebi, pooling'ler kullanılmıyor."
   ]
  },
  {
   "cell_type": "markdown",
   "id": "6000d119",
   "metadata": {},
   "source": [
    "Transfer learning yapılacağı için layer'lardan bir tanesini çıkaralım ve kendi output'umuzu koyalım. SOn katmanda görüldüğü üzere 1000 tane class'tan oluşan bir veri seti kullanılarak eğitilen bir vgg modeli vardır. Ama 1000 tane class yok, 95 tane class var. Dolayısıyla son layer'ı çıkaracağız. Ve bunun yerine kendi output layer'ımızı ekleyeceğiz. Bu işlemleri gerçekleştirelim."
   ]
  },
  {
   "cell_type": "code",
   "execution_count": 10,
   "id": "11a6d998",
   "metadata": {},
   "outputs": [],
   "source": [
    "model = Sequential()"
   ]
  },
  {
   "cell_type": "markdown",
   "id": "66ccbaee",
   "metadata": {},
   "source": [
    "Son output layer'ı 1000 tane class'ı sınıflandırmak için kurulmuştur. Bunu 95 yapalım."
   ]
  },
  {
   "cell_type": "code",
   "execution_count": 11,
   "id": "04aaf1f8",
   "metadata": {},
   "outputs": [],
   "source": [
    "for i in range (len(vgg_layer_list)-1):\n",
    "    model.add(vgg_layer_list[i])"
   ]
  },
  {
   "cell_type": "markdown",
   "id": "942737b2",
   "metadata": {},
   "source": [
    "Yukarıdaki kod bloğu ile yapılan şudur: vgg_layer_list içerisindeki en sonuncu layer hariç her bir layer'ı model içerisine ekleyeceğiz."
   ]
  },
  {
   "cell_type": "markdown",
   "id": "05a85ce1",
   "metadata": {},
   "source": [
    "Peki neden son layer'ı çıkarıyoruz?: Şu an sadece göstermek amacıyla son layer'ı çıkarıyoruz. Zaten VGG19'u kullanırken flatten kısmından bağlantıyı kesip kendi neural network'ümüzü eğitmeye başlayacağız.\n",
    "\n",
    "Şimdi model isimli değişken içerisine depoladıklarımıza bakalım."
   ]
  },
  {
   "cell_type": "code",
   "execution_count": 12,
   "id": "6835247a",
   "metadata": {},
   "outputs": [
    {
     "name": "stdout",
     "output_type": "stream",
     "text": [
      "Model: \"sequential\"\n",
      "_________________________________________________________________\n",
      " Layer (type)                Output Shape              Param #   \n",
      "=================================================================\n",
      " block1_conv1 (Conv2D)       (None, 100, 100, 64)      1792      \n",
      "                                                                 \n",
      " block1_conv2 (Conv2D)       (None, 100, 100, 64)      36928     \n",
      "                                                                 \n",
      " block1_pool (MaxPooling2D)  (None, 50, 50, 64)        0         \n",
      "                                                                 \n",
      " block2_conv1 (Conv2D)       (None, 50, 50, 128)       73856     \n",
      "                                                                 \n",
      " block2_conv2 (Conv2D)       (None, 50, 50, 128)       147584    \n",
      "                                                                 \n",
      " block2_pool (MaxPooling2D)  (None, 25, 25, 128)       0         \n",
      "                                                                 \n",
      " block3_conv1 (Conv2D)       (None, 25, 25, 256)       295168    \n",
      "                                                                 \n",
      " block3_conv2 (Conv2D)       (None, 25, 25, 256)       590080    \n",
      "                                                                 \n",
      " block3_conv3 (Conv2D)       (None, 25, 25, 256)       590080    \n",
      "                                                                 \n",
      " block3_pool (MaxPooling2D)  (None, 12, 12, 256)       0         \n",
      "                                                                 \n",
      " block4_conv1 (Conv2D)       (None, 12, 12, 512)       1180160   \n",
      "                                                                 \n",
      " block4_conv2 (Conv2D)       (None, 12, 12, 512)       2359808   \n",
      "                                                                 \n",
      " block4_conv3 (Conv2D)       (None, 12, 12, 512)       2359808   \n",
      "                                                                 \n",
      " block4_pool (MaxPooling2D)  (None, 6, 6, 512)         0         \n",
      "                                                                 \n",
      " block5_conv1 (Conv2D)       (None, 6, 6, 512)         2359808   \n",
      "                                                                 \n",
      " block5_conv2 (Conv2D)       (None, 6, 6, 512)         2359808   \n",
      "                                                                 \n",
      " block5_conv3 (Conv2D)       (None, 6, 6, 512)         2359808   \n",
      "                                                                 \n",
      "=================================================================\n",
      "Total params: 14,714,688\n",
      "Trainable params: 14,714,688\n",
      "Non-trainable params: 0\n",
      "_________________________________________________________________\n",
      "None\n"
     ]
    }
   ],
   "source": [
    "print(model.summary())"
   ]
  },
  {
   "cell_type": "markdown",
   "id": "5b39643f",
   "metadata": {},
   "source": [
    "Görüldüğü üzere prediction isimli son layer yani output layer'ı artık yoktur. Buraya kendi layer'ımızı ekleyeceğiz. Ama bu işlemden önce yapmamız gereken bir şey vardır."
   ]
  },
  {
   "cell_type": "code",
   "execution_count": 13,
   "id": "7b7e403c",
   "metadata": {},
   "outputs": [],
   "source": [
    "for layers in model.layers:\n",
    "    layers.trainable = False"
   ]
  },
  {
   "cell_type": "markdown",
   "id": "b6e3d0e3",
   "metadata": {},
   "source": [
    "Yukarıdaki kod bloğu ile yapılan şudur: Her bir layer'ı dolanıyoruz ve her bir layer'ın trainable=False ile train edilmemesini sağlıyoruz. Daha önceden ImageNet data'sı kullanılarak train edilmiş weight'leri kullanacağız. Sadece en son layer'ın weight'lerini train etmek istiyoruz. Bu yüzden diğer layer'ların trainable'lerini False değerine eşitleyerek train edilmesini engelledik."
   ]
  },
  {
   "cell_type": "code",
   "execution_count": 14,
   "id": "5bbc836b",
   "metadata": {},
   "outputs": [],
   "source": [
    "model.add(Flatten()) \n",
    "model.add(Dense(256, activation=\"relu\")) \n",
    "model.add(Dense(150, activation=\"relu\"))"
   ]
  },
  {
   "cell_type": "code",
   "execution_count": 15,
   "id": "66b16179",
   "metadata": {},
   "outputs": [],
   "source": [
    "model.add(Dense(numberOfClass, activation=\"softmax\"))"
   ]
  },
  {
   "cell_type": "markdown",
   "id": "4c6c5aa1",
   "metadata": {},
   "source": [
    "Yukarıdaki kod ile model'e Dense layer yani output layer ekledik. Output layer'ında belirtmemiz gereken 2 tane özellik var. Birincisi number of class'tır yani kaç tane nörondan oluşacağıdır. Yukarıdaki satırlarda tanımladığımız numberOfClass değişkeninde 131 değeri bulunmaktadır. Aktivasyon fonksiyonu da multiclass için kullandığımız Softmax fonksiyonu olacaktır.\n",
    "\n",
    "Şimdi modelin katmanlarına bakalım."
   ]
  },
  {
   "cell_type": "code",
   "execution_count": 16,
   "id": "41080c2a",
   "metadata": {},
   "outputs": [
    {
     "name": "stdout",
     "output_type": "stream",
     "text": [
      "Model: \"sequential\"\n",
      "_________________________________________________________________\n",
      " Layer (type)                Output Shape              Param #   \n",
      "=================================================================\n",
      " block1_conv1 (Conv2D)       (None, 100, 100, 64)      1792      \n",
      "                                                                 \n",
      " block1_conv2 (Conv2D)       (None, 100, 100, 64)      36928     \n",
      "                                                                 \n",
      " block1_pool (MaxPooling2D)  (None, 50, 50, 64)        0         \n",
      "                                                                 \n",
      " block2_conv1 (Conv2D)       (None, 50, 50, 128)       73856     \n",
      "                                                                 \n",
      " block2_conv2 (Conv2D)       (None, 50, 50, 128)       147584    \n",
      "                                                                 \n",
      " block2_pool (MaxPooling2D)  (None, 25, 25, 128)       0         \n",
      "                                                                 \n",
      " block3_conv1 (Conv2D)       (None, 25, 25, 256)       295168    \n",
      "                                                                 \n",
      " block3_conv2 (Conv2D)       (None, 25, 25, 256)       590080    \n",
      "                                                                 \n",
      " block3_conv3 (Conv2D)       (None, 25, 25, 256)       590080    \n",
      "                                                                 \n",
      " block3_pool (MaxPooling2D)  (None, 12, 12, 256)       0         \n",
      "                                                                 \n",
      " block4_conv1 (Conv2D)       (None, 12, 12, 512)       1180160   \n",
      "                                                                 \n",
      " block4_conv2 (Conv2D)       (None, 12, 12, 512)       2359808   \n",
      "                                                                 \n",
      " block4_conv3 (Conv2D)       (None, 12, 12, 512)       2359808   \n",
      "                                                                 \n",
      " block4_pool (MaxPooling2D)  (None, 6, 6, 512)         0         \n",
      "                                                                 \n",
      " block5_conv1 (Conv2D)       (None, 6, 6, 512)         2359808   \n",
      "                                                                 \n",
      " block5_conv2 (Conv2D)       (None, 6, 6, 512)         2359808   \n",
      "                                                                 \n",
      " block5_conv3 (Conv2D)       (None, 6, 6, 512)         2359808   \n",
      "                                                                 \n",
      " flatten (Flatten)           (None, 18432)             0         \n",
      "                                                                 \n",
      " dense (Dense)               (None, 256)               4718848   \n",
      "                                                                 \n",
      " dense_1 (Dense)             (None, 150)               38550     \n",
      "                                                                 \n",
      " dense_2 (Dense)             (None, 131)               19781     \n",
      "                                                                 \n",
      "=================================================================\n",
      "Total params: 19,491,867\n",
      "Trainable params: 4,777,179\n",
      "Non-trainable params: 14,714,688\n",
      "_________________________________________________________________\n",
      "None\n"
     ]
    }
   ],
   "source": [
    "print(model.summary())"
   ]
  },
  {
   "cell_type": "code",
   "execution_count": 17,
   "id": "9139d21d",
   "metadata": {},
   "outputs": [],
   "source": [
    "model.compile(loss=\"categorical_crossentropy\",\n",
    "             optimizer=\"rmsprop\",\n",
    "             metrics=[\"accuracy\"])"
   ]
  },
  {
   "cell_type": "markdown",
   "id": "867f2304",
   "metadata": {},
   "source": [
    "Daha önceden eğitilmiş bir model aldık. Weight'leri vs her şeyi var. Bu yapıdan son layer'ı çıkararak yerine kendi output layer'ımızı ekledik. Yeni yapıda öğrenilmesi gereken son layer'a ait weight'lerdir. Bunlar train edilerek öğrenilecek ve böylece vgg'yi daha önceden eğitilmiş bir modeli kullanarak kendi yapımıza bu modeli transfer etmiş olucaz. Böylelikle transfer learning uygulanmış olucak.\n",
    "\n",
    "Şimdi train etme aşamasını yapalım."
   ]
  },
  {
   "cell_type": "code",
   "execution_count": 18,
   "id": "67311222",
   "metadata": {},
   "outputs": [
    {
     "name": "stdout",
     "output_type": "stream",
     "text": [
      "Found 67692 images belonging to 131 classes.\n",
      "Found 22688 images belonging to 131 classes.\n",
      "Epoch 1/13\n"
     ]
    },
    {
     "name": "stderr",
     "output_type": "stream",
     "text": [
      "C:\\Users\\raziy\\AppData\\Local\\Temp\\ipykernel_16444\\2878676473.py:7: UserWarning: `Model.fit_generator` is deprecated and will be removed in a future version. Please use `Model.fit`, which supports generators.\n",
      "  hist = model.fit_generator(train_data,\n"
     ]
    },
    {
     "name": "stdout",
     "output_type": "stream",
     "text": [
      "50/50 [==============================] - 17s 265ms/step - loss: 13.3453 - accuracy: 0.1900 - val_loss: 4.4041 - val_accuracy: 0.2562\n",
      "Epoch 2/13\n",
      "50/50 [==============================] - 13s 265ms/step - loss: 3.0581 - accuracy: 0.4263 - val_loss: 3.2776 - val_accuracy: 0.4275\n",
      "Epoch 3/13\n",
      "50/50 [==============================] - 14s 278ms/step - loss: 2.1936 - accuracy: 0.5719 - val_loss: 2.7831 - val_accuracy: 0.5075\n",
      "Epoch 4/13\n",
      "50/50 [==============================] - 17s 341ms/step - loss: 1.4998 - accuracy: 0.6862 - val_loss: 3.1727 - val_accuracy: 0.5400\n",
      "Epoch 5/13\n",
      "50/50 [==============================] - 17s 340ms/step - loss: 1.3005 - accuracy: 0.7538 - val_loss: 2.0210 - val_accuracy: 0.6862\n",
      "Epoch 6/13\n",
      "50/50 [==============================] - 16s 319ms/step - loss: 0.9591 - accuracy: 0.8138 - val_loss: 2.0068 - val_accuracy: 0.6900\n",
      "Epoch 7/13\n",
      "50/50 [==============================] - 16s 326ms/step - loss: 0.8272 - accuracy: 0.8356 - val_loss: 2.4591 - val_accuracy: 0.6988\n",
      "Epoch 8/13\n",
      "50/50 [==============================] - 23s 474ms/step - loss: 0.8321 - accuracy: 0.8419 - val_loss: 3.4156 - val_accuracy: 0.6587\n",
      "Epoch 9/13\n",
      "50/50 [==============================] - 20s 399ms/step - loss: 0.8173 - accuracy: 0.8525 - val_loss: 2.2341 - val_accuracy: 0.7350\n",
      "Epoch 10/13\n",
      "50/50 [==============================] - 20s 399ms/step - loss: 0.6450 - accuracy: 0.8894 - val_loss: 2.1179 - val_accuracy: 0.7500\n",
      "Epoch 11/13\n",
      "50/50 [==============================] - 60s 1s/step - loss: 0.5906 - accuracy: 0.8950 - val_loss: 1.8705 - val_accuracy: 0.7837\n",
      "Epoch 12/13\n",
      "50/50 [==============================] - 38s 764ms/step - loss: 0.5339 - accuracy: 0.9038 - val_loss: 2.0878 - val_accuracy: 0.7763\n",
      "Epoch 13/13\n",
      "50/50 [==============================] - 54s 1s/step - loss: 0.4512 - accuracy: 0.9206 - val_loss: 1.7555 - val_accuracy: 0.8075\n"
     ]
    }
   ],
   "source": [
    "# train  \n",
    "train_data = ImageDataGenerator().flow_from_directory(train_path,target_size = (100,100))\n",
    "test_data = ImageDataGenerator().flow_from_directory(test_path,target_size = (100,100))\n",
    "\n",
    "batch_size = 32\n",
    "\n",
    "hist = model.fit_generator(train_data,\n",
    "                           steps_per_epoch=1600//batch_size,\n",
    "                           epochs= 13,\n",
    "                           validation_data=test_data,\n",
    "                           validation_steps= 800//batch_size)"
   ]
  },
  {
   "cell_type": "markdown",
   "id": "b6ac7805",
   "metadata": {},
   "source": [
    "flow_from_directory() metodunun 2 tane önemli parametresi vardır. Birisi train_path ve diğeri ise target_size'dır. target_size, training'teki resimlerin shape'sidir.\n",
    "\n",
    "Normalde 100,100 boyutunda resimler mevcut. Fakat target_size parametresine 224,224 değerini atadık. Bunun sebebi, vgg modeli train dataset ImageNet tarafından eğitildiği için buradaki resimler 224x224 'lüktür. Bunu vgg modele verdiğimizde vgg'nin input shape'i 224x224 oluyor. Bunu 2 farklı yolla halledebiliriz. Birinci yol, target size'ı 100x100 'den 224x224'e çevirebiliriz. Bu işlemi ImageDataGenerator ile yapabiliriz. ImageDataGenerator 100x100'lük resimleri resize ile 224x224'lük hale getirebiliriz. Bir başka yöntem ise vgg'nin input shape'ini 100x100'lük olsun şeklinde yapabiliriz."
   ]
  },
  {
   "cell_type": "markdown",
   "id": "206ec440",
   "metadata": {},
   "source": [
    "fit_generator'ın parametreleri: 1.parametreye train edeceğimiz data'dır. 2.parametredeki steps_per_epoch=1600//batch_size ifadesi ile yaklaşık 50 tane steps_per_epoch kullanılması sağlanmıştır. Son parametredeki validation_steps=800//batch_size ifadesi ile validation_steps'in 25 olması sağlanmıştır."
   ]
  },
  {
   "cell_type": "code",
   "execution_count": 19,
   "id": "1efc3805",
   "metadata": {},
   "outputs": [],
   "source": [
    "model.save_weights(\"deneme.h5\")"
   ]
  },
  {
   "cell_type": "code",
   "execution_count": 22,
   "id": "f24a0cf3",
   "metadata": {},
   "outputs": [
    {
     "name": "stdout",
     "output_type": "stream",
     "text": [
      "dict_keys(['loss', 'accuracy', 'val_loss', 'val_accuracy'])\n"
     ]
    },
    {
     "data": {
      "image/png": "[encoded data removed]",
      "text/plain": [
       "<Figure size 640x480 with 1 Axes>"
      ]
     },
     "metadata": {},
     "output_type": "display_data"
    }
   ],
   "source": [
    "#evaluation\n",
    "#loss\n",
    "print(hist.history.keys())\n",
    "plt.plot(hist.history[\"loss\"],label=\"training loss\")\n",
    "plt.plot(hist.history[\"val_loss\"],label=\"validation loss\")\n",
    "plt.legend()\n",
    "plt.show()"
   ]
  },
  {
   "cell_type": "code",
   "execution_count": 24,
   "id": "3188ef79",
   "metadata": {},
   "outputs": [
    {
     "name": "stdout",
     "output_type": "stream",
     "text": [
      "dict_keys(['loss', 'accuracy', 'val_loss', 'val_accuracy'])\n"
     ]
    },
    {
     "data": {
      "image/png": "[encoded data removed]",
      "text/plain": [
       "<Figure size 640x480 with 1 Axes>"
      ]
     },
     "metadata": {},
     "output_type": "display_data"
    }
   ],
   "source": [
    "#evaluation\n",
    "#accuracy\n",
    "print(hist.history.keys())\n",
    "plt.plot(hist.history[\"accuracy\"],label=\"training accuracy\")\n",
    "plt.plot(hist.history[\"val_accuracy\"],label=\"validation accuracy\")\n",
    "plt.legend()\n",
    "plt.show()"
   ]
  },
  {
   "cell_type": "markdown",
   "id": "0be98967",
   "metadata": {},
   "source": [
    "Şimdi de elde ettiğimiz hist değişkenini kaydedelim. Çünkü kernel'ı kapatıp açtıktan sonra da sonuçları görebilmek ve değerlendirebilmek istiyoruz."
   ]
  },
  {
   "cell_type": "code",
   "execution_count": 26,
   "id": "452ec3ae",
   "metadata": {},
   "outputs": [],
   "source": [
    "#save history\n",
    "import json, codecs\n",
    "with open(\"deneme.json\",\"w\") as f:\n",
    "    json.dump(hist.history,f)"
   ]
  },
  {
   "cell_type": "markdown",
   "id": "4c6da650",
   "metadata": {},
   "source": [
    "Şimdi de daha önceden yapmış olduğumuz history'leri yükleyelim."
   ]
  },
  {
   "cell_type": "code",
   "execution_count": 29,
   "id": "547e5bdb",
   "metadata": {},
   "outputs": [],
   "source": [
    "#Load history\n",
    "with codecs.open(\"deneme.json\",\"r\",encoding=\"utf-8\") as f:\n",
    "    n = json.loads(f.read())"
   ]
  },
  {
   "cell_type": "code",
   "execution_count": 30,
   "id": "db8fb252",
   "metadata": {},
   "outputs": [
    {
     "data": {
      "text/plain": [
       "{'loss': [13.345322608947754,\n",
       "  3.0580904483795166,\n",
       "  2.193557024002075,\n",
       "  1.4997797012329102,\n",
       "  1.3005423545837402,\n",
       "  0.9591493010520935,\n",
       "  0.8271544575691223,\n",
       "  0.8321137428283691,\n",
       "  0.8172743320465088,\n",
       "  0.6449516415596008,\n",
       "  0.590584933757782,\n",
       "  0.5338531732559204,\n",
       "  0.45122790336608887],\n",
       " 'accuracy': [0.1899999976158142,\n",
       "  0.42625001072883606,\n",
       "  0.5718749761581421,\n",
       "  0.6862499713897705,\n",
       "  0.7537500262260437,\n",
       "  0.8137500286102295,\n",
       "  0.8356249928474426,\n",
       "  0.8418750166893005,\n",
       "  0.8525000214576721,\n",
       "  0.8893749713897705,\n",
       "  0.8949999809265137,\n",
       "  0.9037500023841858,\n",
       "  0.9206249713897705],\n",
       " 'val_loss': [4.404085159301758,\n",
       "  3.2775702476501465,\n",
       "  2.7830963134765625,\n",
       "  3.172743797302246,\n",
       "  2.02095365524292,\n",
       "  2.0068156719207764,\n",
       "  2.4591219425201416,\n",
       "  3.4156148433685303,\n",
       "  2.2340893745422363,\n",
       "  2.117908239364624,\n",
       "  1.8705073595046997,\n",
       "  2.087801456451416,\n",
       "  1.7554597854614258],\n",
       " 'val_accuracy': [0.2562499940395355,\n",
       "  0.42750000953674316,\n",
       "  0.5074999928474426,\n",
       "  0.5400000214576721,\n",
       "  0.6862499713897705,\n",
       "  0.6899999976158142,\n",
       "  0.6987500190734863,\n",
       "  0.6587499976158142,\n",
       "  0.7350000143051147,\n",
       "  0.75,\n",
       "  0.7837499976158142,\n",
       "  0.7762500047683716,\n",
       "  0.8075000047683716]}"
      ]
     },
     "execution_count": 30,
     "metadata": {},
     "output_type": "execute_result"
    }
   ],
   "source": [
    "n"
   ]
  },
  {
   "cell_type": "code",
   "execution_count": 31,
   "id": "d1c2ded0",
   "metadata": {},
   "outputs": [
    {
     "data": {
      "image/png": "[encoded data removed]",
      "text/plain": [
       "<Figure size 640x480 with 1 Axes>"
      ]
     },
     "metadata": {},
     "output_type": "display_data"
    }
   ],
   "source": [
    "#evaluation\n",
    "#loss\n",
    "plt.plot(n[\"loss\"],label=\"training loss\")\n",
    "plt.plot(n[\"val_loss\"],label=\"validation loss\")\n",
    "plt.legend()\n",
    "plt.show()"
   ]
  },
  {
   "cell_type": "code",
   "execution_count": 32,
   "id": "bd2afe89",
   "metadata": {},
   "outputs": [
    {
     "data": {
      "image/png": "[encoded data removed]",
      "text/plain": [
       "<Figure size 640x480 with 1 Axes>"
      ]
     },
     "metadata": {},
     "output_type": "display_data"
    }
   ],
   "source": [
    "#evaluation\n",
    "#accuracy\n",
    "plt.plot(n[\"accuracy\"],label=\"training accuracy\")\n",
    "plt.plot(n[\"val_accuracy\"],label=\"validation accuracy\")\n",
    "plt.legend()\n",
    "plt.show()"
   ]
  },
  {
   "cell_type": "markdown",
   "id": "9cbbf7af",
   "metadata": {},
   "source": [
    "Böylelikle daha önceden kaydettiğimiz deneme.json'ı yükleyerek plot ettirdik."
   ]
  }
 ],
 "metadata": {
  "kernelspec": {
   "display_name": "Python 3 (ipykernel)",
   "language": "python",
   "name": "python3"
  },
  "language_info": {
   "codemirror_mode": {
    "name": "ipython",
    "version": 3
   },
   "file_extension": ".py",
   "mimetype": "text/x-python",
   "name": "python",
   "nbconvert_exporter": "python",
   "pygments_lexer": "ipython3",
   "version": "3.9.12"
  }
 },
 "nbformat": 4,
 "nbformat_minor": 5
}
