{
 "cells": [
  {
   "cell_type": "code",
   "execution_count": null,
   "id": "7e6d6f32",
   "metadata": {},
   "outputs": [],
   "source": [
    "from keras.applications.vgg19 import VGG19\n",
    "from keras.models import Sequential\n",
    "from keras.utils import to_categorical\n",
    "from keras.layers import Dense, Flatten\n",
    "from keras.datasets import cifar10\n",
    "import matplotlib.pyplot as plt\n",
    "import cv2\n",
    "import numpy as np"
   ]
  },
  {
   "cell_type": "markdown",
   "id": "82ce8b0c",
   "metadata": {},
   "source": [
    "Cifar10 veri setinin içinde bulunan resimleri vgg modeline imput olarak verirken vgg modeli 48x48 lik resimleri alırım diyor ama cifar10 veri setindeki resimler 48x48 lik değil. Bu yüzden boyutu değiştireceğiz ve bu boyutu değiştirirken de Opencv kütüphanesini kullanacağız. \"import cv2\" satırı ile opencv kütüphanesi import edilmiştir."
   ]
  },
  {
   "cell_type": "code",
   "execution_count": null,
   "id": "fc2e107b",
   "metadata": {},
   "outputs": [],
   "source": [
    "import ssl\n",
    "ssl._create_default_https_context = ssl._create_unverified_context\n",
    "\n",
    "(x_train, y_train),(x_test, y_test) = cifar10.load_data()\n",
    "print(\"x_train shape\",x_train.shape)\n",
    "print(\"train sample:\",x_train.shape[0])"
   ]
  },
  {
   "cell_type": "markdown",
   "id": "3f894523",
   "metadata": {},
   "source": [
    "Yukarıdaki kod satırı ile veri seti yüklenmiştir."
   ]
  },
  {
   "cell_type": "code",
   "execution_count": null,
   "id": "be642e25",
   "metadata": {},
   "outputs": [],
   "source": [
    "numberOfClass = 10"
   ]
  },
  {
   "cell_type": "markdown",
   "id": "d598b6b3",
   "metadata": {},
   "source": [
    "numberOfClass değişkeninde cifar veri setinde kaç tane class olduğu bilgisini depoladık. 10 farklı class yani 10 farklı resim vardır. Uçak, kedi, köpek gibi farklı resimler vardır. Bunları categorical hale getirelim."
   ]
  },
  {
   "cell_type": "code",
   "execution_count": null,
   "id": "baefaec5",
   "metadata": {},
   "outputs": [],
   "source": [
    "y_train = to_categorical(y_train, numberOfClass)\n",
    "y_test = to_categorical(y_test, numberOfClass)"
   ]
  },
  {
   "cell_type": "markdown",
   "id": "64180c8e",
   "metadata": {},
   "source": [
    "Yukarıdaki kod bloğu ile y_train ve y_test'in içerisindeki her bir class categorical hale getirilmiştir."
   ]
  },
  {
   "cell_type": "code",
   "execution_count": null,
   "id": "f589f877",
   "metadata": {},
   "outputs": [],
   "source": [
    "x_train.shape"
   ]
  },
  {
   "cell_type": "markdown",
   "id": "dc1009ce",
   "metadata": {},
   "source": [
    "Yukarıda görüldüğü üzere x_train in shape'i 4 tane parametreden oluşan bir tuple veriyor. Bu değerlerden 32,32,3 kısmı shape'dir. Son parametreden anlaşılacağı üzere resimler rgb'dir."
   ]
  },
  {
   "cell_type": "code",
   "execution_count": null,
   "id": "f30b2f8b",
   "metadata": {},
   "outputs": [],
   "source": [
    "input_shape = x_train.shape[1:]"
   ]
  },
  {
   "cell_type": "markdown",
   "id": "5ebb32a2",
   "metadata": {},
   "source": [
    "Yukarıdaki kodun bir üstündeki kodda gördülüğü üzere 32,32,3 kısmı shape'dir. Dolayısıyla ilk parametre dahil edilmeyip sonraki parametreler input_shape değişkenine atanmıştır."
   ]
  },
  {
   "cell_type": "markdown",
   "id": "ec79a865",
   "metadata": {},
   "source": [
    "Bu rgb resimleri görselleştirelim."
   ]
  },
  {
   "cell_type": "code",
   "execution_count": null,
   "id": "e351a13c",
   "metadata": {},
   "outputs": [],
   "source": [
    "#%% visualize\n",
    "plt.imshow(x_train[5].astype(np.uint8))\n",
    "plt.axis(\"off\")\n",
    "plt.show()"
   ]
  },
  {
   "cell_type": "markdown",
   "id": "7600f5b0",
   "metadata": {},
   "source": [
    "5.resmin araba olduğunu output'ta görmekteyiz."
   ]
  },
  {
   "cell_type": "markdown",
   "id": "c1de0f99",
   "metadata": {},
   "source": [
    "Veri setindeki resimlerin boyutu 32x32 dir. Fakat vgg19 modeli minimum 48x48 lik input'lar istemektedir. Bu yüzden vgg modeline uygun olması için veri setindeki biraz genişletmeliyiz. OpenCV kütüphanesini kullanarak 32x32'yi 48x48 yapabiliriz. Şimdi veri seti içerisinde bulunan resimlerin size'ını vgg19 modelinin istekleri doğrultusunda güncelleyelim. Yani veri setindeki resimlerin boyutlarını büyütmeliyiz."
   ]
  },
  {
   "cell_type": "code",
   "execution_count": null,
   "id": "5d433946",
   "metadata": {},
   "outputs": [],
   "source": [
    "#increase dimension\n",
    "def resize_img(img):\n",
    "    numberOfImage = img.shape[0]  #resim sayısıdır.\n",
    "    new_array = np.zeros((numberOfImage, 48,48,3))\n",
    "    for i in range(numberOfImage):\n",
    "        new_array[i] = cv2.resize(img[i,:,:,:],(48,48))\n",
    "    return new_array"
   ]
  },
  {
   "cell_type": "markdown",
   "id": "b80798b7",
   "metadata": {},
   "source": [
    "Yukarıdaki kod bloğunda resimlerin her birinin boyutu 4848'e yükseltilmiştir.\n",
    "\n",
    "img[i,:,:,:] ifadesinde, img'nin i.resmi alınmıştır ve :,:,: ifadesi resmin ile tüm boyutunun alınması sağlanmıştır. :,:,: yerine 32,32,3 de yazılabilir. Fakat bu ifadeyi farklı veri setleri üzerinde de kullanabilmemiz için biraz genel yazmamız daha doğru olur. \n",
    "\n",
    "new_array[i] = cv2.resize(img[i,:,:,:],(48,48)) satırı ile yapılan, opencv'nin resize metodu ile img[i,:,:,:] resmi 48,48 boyutuna dönüştürülmüştür.\n",
    "\n",
    "\"return new_array\" ile 48,48 boyutundaki her bir resim return edilmiştir."
   ]
  },
  {
   "cell_type": "code",
   "execution_count": null,
   "id": "edf2b9ad",
   "metadata": {},
   "outputs": [],
   "source": [
    "x_train = resize_img(x_train)\n",
    "x_test = resize_img(x_test)\n",
    "print(\"increased dim x_train: \",x_train.shape)"
   ]
  },
  {
   "cell_type": "markdown",
   "id": "43054bf5",
   "metadata": {},
   "source": [
    "Birde yukarıdaki işlemlerden ötürü resmin değişimine bakalım."
   ]
  },
  {
   "cell_type": "code",
   "execution_count": null,
   "id": "09b5f1f1",
   "metadata": {},
   "outputs": [],
   "source": [
    "plt.figure()\n",
    "plt.imshow(x_train[5].astype(np.uint8))\n",
    "plt.axis(\"off\")\n",
    "plt.show()"
   ]
  },
  {
   "cell_type": "markdown",
   "id": "c733a170",
   "metadata": {},
   "source": [
    "Output'a bakıldığında anlaşılacağı üzere piksellerde bir artış söz konusudur.\n",
    "\n",
    "Şimdi vgg19 modelini kullanalım."
   ]
  },
  {
   "cell_type": "code",
   "execution_count": null,
   "id": "53b10281",
   "metadata": {},
   "outputs": [],
   "source": [
    "#%% vgg19\n",
    "\n",
    "vgg = VGG19(include_top = False, weights = \"imagenet\", input_shape = (48,48,3))\n",
    "\n",
    "print(vgg.summary())"
   ]
  },
  {
   "cell_type": "markdown",
   "id": "8f4491f3",
   "metadata": {},
   "source": [
    "vgg = VGG19(include_top = False, weights = \"imagenet\", input_shape = (48,48,3)) satırını açıklayayım: 3.parametreden anlaşılacağı üzere rgb formatında 48x48 lik resimler vardır. 2.parametredeki weigths'lerin imagenet olmasının anlamı, VGG19 modeli bir transfer learning modeli olduğu için bu bir yerde eğitilmiştir ve eğitildiği yer ise imagenet veri setidir. Yani weight'ler imagenet ceri setinde eğitilmiştir. 1.parametre ise, vgg19'nin son kısımlarında fully connected layer vardır ve include_top = False ile fully connected layer'ı eklememiş oluyoruz. \n",
    "\n",
    "Output'u inceleyelim. Son layer MaxPooling'tir ve bu katmandan sonra normalde fully connected layer'ının olması gerekir. Yani flatten yapılması ve daha sonrada kaç tane dense layer olacaksa onların olması gerekiyor. Ama include_top = False parametresinden dolayı bu katmanlar çıkarılmıştır. Zaten vgg gibi transfer learning modellerinde genelde fully connected layer kısmını değiştiriyoruz.\n",
    "\n",
    "Öncelikle layer'ları listeleyelim."
   ]
  },
  {
   "cell_type": "code",
   "execution_count": null,
   "id": "57e03513",
   "metadata": {},
   "outputs": [],
   "source": [
    "vgg_layer_list = vgg.layers\n",
    "print(vgg_layer_list)"
   ]
  },
  {
   "cell_type": "markdown",
   "id": "805ed595",
   "metadata": {},
   "source": [
    "Output'ta tüm layer'ları görebilmekteyiz.\n",
    "\n",
    "Layer'ların hepsi sequential olduğu için bu layer'ları sequential model içerisine atmamız lazım. Çünkü bunlara kendi fully connected layer'ımızı ekleyeceğiz."
   ]
  },
  {
   "cell_type": "code",
   "execution_count": null,
   "id": "ff955d3b",
   "metadata": {},
   "outputs": [],
   "source": [
    "model = Sequential()\n",
    "for layer in vgg_layer_list:\n",
    "    model.add(layer)\n",
    "    \n",
    "print(model.summary()) #Modelin içerisini görmek için.\n"
   ]
  },
  {
   "cell_type": "code",
   "execution_count": null,
   "id": "00a08922",
   "metadata": {},
   "outputs": [],
   "source": [
    "for layer in model.layers:\n",
    "    layer.trainable = False"
   ]
  },
  {
   "cell_type": "markdown",
   "id": "f2a05a43",
   "metadata": {},
   "source": [
    "Şöyle bir sorun var. Sequantial model oluşturduk. Eğer bu modeli eğitirsek sadece yeni eklediğimiz fulley connected layer değil, öncesindeki tüm katmanlarda eğitilecektir. Bu durumu istemiyoruz ki transfer learning kullanma amacımız da buydu zaten. Daha önceden öğrenilmiş, transfer edilmiş bir yapı var ve biz bu yapıyı kullanmak istiyoruz. Bu yüzden kendi layer'ımızı eklemeden önce yukarıdaki kod bloğunu oluşturduk. Yukarıdaki kod bloğu ile modelin layer'larının train edilmesi engellenmiştir. "
   ]
  },
  {
   "cell_type": "markdown",
   "id": "08a0d5ab",
   "metadata": {},
   "source": [
    "Şimdi modele fully connected layer kısmını ekleyelim.\n",
    "\n",
    "Bir tane flatten yapmak zorundayız. Daha sonra bir tane de dense layer ekleyelim. Sonra birde output layer ekleyelim."
   ]
  },
  {
   "cell_type": "code",
   "execution_count": null,
   "id": "05475a4e",
   "metadata": {},
   "outputs": [],
   "source": [
    "# fully connected layers\n",
    "model.add(Flatten())\n",
    "model.add(Dense(128))  #128 tane nöron ekledik.\n",
    "model.add(Dense(numberOfClass, activation= \"softmax\"))  #output layer eklenmiştir. Output layer'da Dense layer'dır.\n",
    "#output layer'daki nöron sayısı class sayısı kadar olmalıdır."
   ]
  },
  {
   "cell_type": "code",
   "execution_count": null,
   "id": "86dce11a",
   "metadata": {},
   "outputs": [],
   "source": [
    "print(model.summary())"
   ]
  },
  {
   "cell_type": "markdown",
   "id": "d8ff3875",
   "metadata": {},
   "source": [
    "Output'ta görüldüğü üzere Flatten layer ekledik, Dense layer ekledik, output layer ekledik.\n",
    "\n",
    "Artık compile etme aşamasına yani training aşamasına geçebiliriz."
   ]
  },
  {
   "cell_type": "code",
   "execution_count": null,
   "id": "15a03154",
   "metadata": {},
   "outputs": [],
   "source": [
    "model.compile(loss = \"categorical_crossentropy\",\n",
    "              optimizer = \"rmsprop\",\n",
    "              metrics = [\"accuracy\"])"
   ]
  },
  {
   "cell_type": "code",
   "execution_count": null,
   "id": "01a3a009",
   "metadata": {},
   "outputs": [],
   "source": [
    "hist = model.fit(x_train, y_train, validation_split = 0.2, epochs = 5, batch_size = 1000)"
   ]
  },
  {
   "cell_type": "markdown",
   "id": "b2701680",
   "metadata": {},
   "source": [
    "Kaydettiğimiz şeyleri içerisinde tutmak için bir hist değişkeni oluşturdum.\n",
    "\n",
    "Yukarıdaki kod bloğunu açıklayayım. train datası fit edileceğinden 1. ve 2.parametrelere train datalarını yazdık. 3.parametre ile, modeli train ederken bir validation veri seti oluşturuyor ve bu valication setini x_train ve y_train içerisinden %20'si olacak şekilde ayarlıyor.  "
   ]
  },
  {
   "cell_type": "code",
   "execution_count": null,
   "id": "25c6ceda",
   "metadata": {},
   "outputs": [],
   "source": [
    "# model save\n",
    "model.save_weights(\"example.h5\")"
   ]
  },
  {
   "cell_type": "code",
   "execution_count": null,
   "id": "1200c060",
   "metadata": {},
   "outputs": [],
   "source": [
    "plt.plot(hist.history[\"loss\"], label = \"train loss\")\n",
    "plt.plot(hist.history[\"val_loss\"], label = \"val loss\")\n",
    "plt.legend()\n",
    "plt.show()\n",
    "\n",
    "plt.figure()\n",
    "plt.plot(hist.history[\"acc\"], label = \"train acc\")\n",
    "plt.plot(hist.history[\"val_acc\"], label = \"val acc\")\n",
    "plt.legend()\n",
    "plt.show()"
   ]
  },
  {
   "cell_type": "code",
   "execution_count": null,
   "id": "719ca08d",
   "metadata": {},
   "outputs": [],
   "source": [
    "# load\n",
    "import json, codecs\n",
    "with codecs.open(\"transfer_learning_vgg19_cfar10.json\",\"r\",encoding = \"utf-8\") as f:\n",
    "    n = json.loads(f.read())\n",
    "\n",
    "plt.plot(n[\"acc\"], label = \"train acc\")\n",
    "plt.plot(n[\"val_acc\"], label = \"val acc\")\n",
    "plt.legend()\n",
    "plt.show()\n",
    "\n",
    "\n",
    "# save\n",
    "with open('transfer_learning_vgg19_cfar10.json', 'w') as f:\n",
    "    json.dump(hist.history, f)"
   ]
  }
 ],
 "metadata": {
  "kernelspec": {
   "display_name": "Python 3 (ipykernel)",
   "language": "python",
   "name": "python3"
  },
  "language_info": {
   "codemirror_mode": {
    "name": "ipython",
    "version": 3
   },
   "file_extension": ".py",
   "mimetype": "text/x-python",
   "name": "python",
   "nbconvert_exporter": "python",
   "pygments_lexer": "ipython3",
   "version": "3.9.12"
  }
 },
 "nbformat": 4,
 "nbformat_minor": 5
}
