{
 "cells": [
  {
   "cell_type": "code",
   "execution_count": 1,
   "id": "2b1e9529",
   "metadata": {},
   "outputs": [],
   "source": [
    "from keras.models import Sequential\n",
    "from keras.layers import Dense, Activation, Conv2D, MaxPooling2D, Flatten, Dropout, BatchNormalization\n",
    "from keras.utils import to_categorical\n",
    "import matplotlib.pyplot as plt\n",
    "import pandas as pd\n",
    "import numpy as np\n",
    "import warnings\n",
    "warnings.filterwarnings(\"ignore\")"
   ]
  },
  {
   "cell_type": "markdown",
   "id": "fe73abf4",
   "metadata": {},
   "source": [
    "to_categorical metodu one hot encoding yapmaktadır.\n",
    "\n",
    "<br>\n",
    "<img src=\"m1.png\" align = \"left\" style=\"width:500px;height:200px\"/> Yan tarafta one hot encoding kavramını ifade eden bir görsel bulunmaktadır. Üzerinde 6 ifadesinin bulundupu bir resim vardır. Bu resmin sayısal karşılığı olan bir vektör vardır. Ve bir label değeri vardır. Label değeri 6'dır. Bu resmi keras'ta eğitebilmek için gerekli olan şey 6 label'ı değildir. 6 label'ını one hot encoding ile çevirmeliyiz. Kaç tane class var ise her bir class'a ait bir yer vardır. O resim hangi class'a ait ise ilgili değere ait yer 1 olur. Görselde gördüğünüz üzere label değeri 6 olduğu için 6 değerine karşılık gelen yer 1'dir. Diğer yerler 0'dır. Bu sayede label'lar one hot encoding metodu ile keras'ın anlayabileceği şekle çevrilmiştir."
   ]
  },
  {
   "cell_type": "markdown",
   "id": "d70fdf81",
   "metadata": {},
   "source": [
    "<br>\n",
    "<img src=\"m2.png\" align = \"left\" style=\"width:500px;height:200px\"/>  \n",
    "A, B, C şeklinde 3 adet sınıf olsun. Bu sınıflara karşılık gelen resimler var. Bunları keras'a label olarak verebilmek için bunlara one hot encoding yapılır. Yanda sınıfların encode edilmiş hallerini görmektesiniz. Bu yapıya getirildiğinde keras label'ları anlayabilir hale geliyor. One hot encoding işleminin gerçekleştirilebilmesi için to_categorical metodu vardır."
   ]
  },
  {
   "cell_type": "code",
   "execution_count": 2,
   "id": "b5de9c8c",
   "metadata": {},
   "outputs": [],
   "source": [
    "def load_and_preprocess(data_path):\n",
    "    data = pd.read_csv(data_path)\n",
    "    data = data.values  #data, array'e çevrilmiştir.\n",
    "    np.random.shuffle(data)  \n",
    "    \n",
    "    x = data[:,1:].reshape(-1,28,28,1)/255.0\n",
    "    y = data[:,0].astype(np.int32)\n",
    "    y = to_categorical(y, num_classes = len(set(y)))\n",
    "    \n",
    "    return x,y\n",
    "\n",
    "train_data_path = \"C:/Users/raziy/OneDrive/Masaüstü/Caner hocanın attıkları/KURS ÇALIŞMALARIM/Deep Learning ve Python İleri Seviye Derin Öğrenme (5.1)/Mnist_dataset_with_CNN/mnist_train.csv\"\n",
    "test_data_path = \"C:/Users/raziy/OneDrive/Masaüstü/Caner hocanın attıkları/KURS ÇALIŞMALARIM\\Deep Learning ve Python İleri Seviye Derin Öğrenme (5.1)/Mnist_dataset_with_CNN/mnist_test.csv\"\n",
    "\n",
    "x_train, y_train = load_and_preprocess(train_data_path)\n",
    "x_test, y_test = load_and_preprocess(test_data_path)"
   ]
  },
  {
   "cell_type": "code",
   "execution_count": 3,
   "id": "609847b3",
   "metadata": {},
   "outputs": [
    {
     "data": {
      "text/plain": [
       "(60000, 10)"
      ]
     },
     "execution_count": 3,
     "metadata": {},
     "output_type": "execute_result"
    }
   ],
   "source": [
    "y_train.shape"
   ]
  },
  {
   "cell_type": "markdown",
   "id": "a155e37a",
   "metadata": {},
   "source": [
    "np.random.shuffle(data) satırı ile data kendi içerisinde karıştırılmıştır. \n",
    "\n",
    "x değişkeninde resimler, y değişkeninde label'lar tutulmaktadır.\n",
    "\n",
    "x = data[:,1:].reshape(-1,28,28,1)/255.0 satırında keras (-1,28,28,1) şeklini kabul ettiği için bu şekle dönüşüm sağlanmıştır. 255.0'a bölerek resim normalize edilmiştir.\n",
    "\n",
    "y = data[:,0].astype(np.int32) satırı ile y'nin int'e çevrilmesi sağlanmıştır. Belki y zaten int'ti buna bakmadık ve her ihtimale karşı int'e çevirdik. Yani mesela label \"1\" şeklinde string olabilirdi dolayısıyla bunu 1 şeklinde int'e çevirdik.\n",
    "\n",
    "Y = to_categorical(y, num_classes = len(set(y))) satırında to_categorical metodu kullanılarak one hot encoding işlemi yapılmıştır.\n",
    "\n",
    "Şimdi de bir resmi görselleştirelim."
   ]
  },
  {
   "cell_type": "code",
   "execution_count": 4,
   "id": "75a6fb9c",
   "metadata": {},
   "outputs": [
    {
     "name": "stdout",
     "output_type": "stream",
     "text": [
      "(60000, 28, 28, 1)\n",
      "(10000, 28, 28, 1)\n"
     ]
    }
   ],
   "source": [
    "print(x_train.shape)\n",
    "print(x_test.shape)"
   ]
  },
  {
   "cell_type": "markdown",
   "id": "9e9fde12",
   "metadata": {},
   "source": [
    "60000 tane train data'sı ve 10000 tane test data'sı vardır."
   ]
  },
  {
   "cell_type": "code",
   "execution_count": 5,
   "id": "c09007c7",
   "metadata": {},
   "outputs": [
    {
     "name": "stderr",
     "output_type": "stream",
     "text": [
      "No artists with labels found to put in legend.  Note that artists whose label start with an underscore are ignored when legend() is called with no argument.\n"
     ]
    },
    {
     "data": {
      "image/png": "[encoded data removed]",
      "text/plain": [
       "<Figure size 432x288 with 1 Axes>"
      ]
     },
     "metadata": {
      "needs_background": "light"
     },
     "output_type": "display_data"
    },
    {
     "name": "stdout",
     "output_type": "stream",
     "text": [
      "2\n"
     ]
    }
   ],
   "source": [
    "#visualize\n",
    "index=5\n",
    "vis = x_train.reshape(60000,28,28)\n",
    "plt.imshow(vis[index,:,:])\n",
    "plt.legend()\n",
    "plt.axis(\"off\")\n",
    "plt.show()\n",
    "print(np.argmax(y_train[index]))"
   ]
  },
  {
   "cell_type": "markdown",
   "id": "8c3d075c",
   "metadata": {},
   "source": [
    "x_train'in shape'i (60000, 28, 28, 1) şeklindedir. Default olarak 4.parametrede 1 vardır. Görselleştirme yaparken bu 1 değerine ihtiyaç yoktur. Dolayısıyla vis = x_train.reshape(60000,28,28) satırı ile 1 değeri kaldırılır.\n",
    "\n",
    "index değeri rastgele seçilmiştir ve görselleştirme yapılmıştır.\n",
    "\n",
    "Veri setinde 0,1,2,3,4,5,6,7,8,9 değerleri vardır. Dolayısıyla çıktı resminde bu değerlerden birisi elde edilecektir."
   ]
  },
  {
   "cell_type": "code",
   "execution_count": 11,
   "id": "a860e209",
   "metadata": {},
   "outputs": [
    {
     "name": "stdout",
     "output_type": "stream",
     "text": [
      "Epoch 1/50\n",
      "15/15 [==============================] - 23s 1s/step - loss: 1.6214 - accuracy: 0.4716 - val_loss: 2.1218 - val_accuracy: 0.3532\n",
      "Epoch 2/50\n",
      "15/15 [==============================] - 22s 1s/step - loss: 0.6536 - accuracy: 0.7961 - val_loss: 2.3864 - val_accuracy: 0.1135\n",
      "Epoch 3/50\n",
      "15/15 [==============================] - 22s 1s/step - loss: 0.3784 - accuracy: 0.8813 - val_loss: 3.0686 - val_accuracy: 0.1135\n",
      "Epoch 4/50\n",
      "15/15 [==============================] - 21s 1s/step - loss: 0.2757 - accuracy: 0.9132 - val_loss: 3.6920 - val_accuracy: 0.1135\n",
      "Epoch 5/50\n",
      "15/15 [==============================] - 22s 1s/step - loss: 0.2276 - accuracy: 0.9292 - val_loss: 4.1357 - val_accuracy: 0.1135\n",
      "Epoch 6/50\n",
      "15/15 [==============================] - 23s 2s/step - loss: 0.1957 - accuracy: 0.9400 - val_loss: 4.4388 - val_accuracy: 0.1135\n",
      "Epoch 7/50\n",
      "15/15 [==============================] - 23s 2s/step - loss: 0.1714 - accuracy: 0.9465 - val_loss: 4.7965 - val_accuracy: 0.1135\n",
      "Epoch 8/50\n",
      "15/15 [==============================] - 23s 2s/step - loss: 0.1583 - accuracy: 0.9508 - val_loss: 4.9241 - val_accuracy: 0.1135\n",
      "Epoch 9/50\n",
      "15/15 [==============================] - 23s 2s/step - loss: 0.1476 - accuracy: 0.9554 - val_loss: 5.0553 - val_accuracy: 0.1135\n",
      "Epoch 10/50\n",
      "15/15 [==============================] - 22s 1s/step - loss: 0.1364 - accuracy: 0.9578 - val_loss: 5.2856 - val_accuracy: 0.1135\n",
      "Epoch 11/50\n",
      "15/15 [==============================] - 23s 2s/step - loss: 0.1279 - accuracy: 0.9603 - val_loss: 5.2713 - val_accuracy: 0.1135\n",
      "Epoch 12/50\n",
      "15/15 [==============================] - 25s 2s/step - loss: 0.1221 - accuracy: 0.9624 - val_loss: 5.3970 - val_accuracy: 0.1135\n",
      "Epoch 13/50\n",
      "15/15 [==============================] - 23s 2s/step - loss: 0.1143 - accuracy: 0.9660 - val_loss: 5.3994 - val_accuracy: 0.1135\n",
      "Epoch 14/50\n",
      "15/15 [==============================] - 23s 2s/step - loss: 0.1084 - accuracy: 0.9663 - val_loss: 5.5603 - val_accuracy: 0.1135\n",
      "Epoch 15/50\n",
      "15/15 [==============================] - 23s 2s/step - loss: 0.1028 - accuracy: 0.9672 - val_loss: 5.4686 - val_accuracy: 0.1135\n",
      "Epoch 16/50\n",
      "15/15 [==============================] - 24s 2s/step - loss: 0.1002 - accuracy: 0.9686 - val_loss: 5.4804 - val_accuracy: 0.1135\n",
      "Epoch 17/50\n",
      "15/15 [==============================] - 24s 2s/step - loss: 0.0974 - accuracy: 0.9696 - val_loss: 5.2276 - val_accuracy: 0.1135\n",
      "Epoch 18/50\n",
      "15/15 [==============================] - 23s 2s/step - loss: 0.0914 - accuracy: 0.9716 - val_loss: 5.2006 - val_accuracy: 0.1135\n",
      "Epoch 19/50\n",
      "15/15 [==============================] - 23s 2s/step - loss: 0.0896 - accuracy: 0.9725 - val_loss: 4.9786 - val_accuracy: 0.1135\n",
      "Epoch 20/50\n",
      "15/15 [==============================] - 23s 2s/step - loss: 0.0886 - accuracy: 0.9725 - val_loss: 4.6621 - val_accuracy: 0.1135\n",
      "Epoch 21/50\n",
      "15/15 [==============================] - 23s 2s/step - loss: 0.0835 - accuracy: 0.9743 - val_loss: 4.2717 - val_accuracy: 0.1138\n",
      "Epoch 22/50\n",
      "15/15 [==============================] - 25s 2s/step - loss: 0.0825 - accuracy: 0.9747 - val_loss: 3.9522 - val_accuracy: 0.1152\n",
      "Epoch 23/50\n",
      "15/15 [==============================] - 24s 2s/step - loss: 0.0781 - accuracy: 0.9755 - val_loss: 3.1223 - val_accuracy: 0.1462\n",
      "Epoch 24/50\n",
      "15/15 [==============================] - 22s 2s/step - loss: 0.0778 - accuracy: 0.9755 - val_loss: 2.7740 - val_accuracy: 0.1913\n",
      "Epoch 25/50\n",
      "15/15 [==============================] - 23s 2s/step - loss: 0.0707 - accuracy: 0.9776 - val_loss: 2.2929 - val_accuracy: 0.2712\n",
      "Epoch 26/50\n",
      "15/15 [==============================] - 22s 1s/step - loss: 0.0700 - accuracy: 0.9781 - val_loss: 1.7865 - val_accuracy: 0.3833\n",
      "Epoch 27/50\n",
      "15/15 [==============================] - 24s 2s/step - loss: 0.0703 - accuracy: 0.9787 - val_loss: 1.3688 - val_accuracy: 0.5227\n",
      "Epoch 28/50\n",
      "15/15 [==============================] - 23s 2s/step - loss: 0.0679 - accuracy: 0.9786 - val_loss: 1.0030 - val_accuracy: 0.6425\n",
      "Epoch 29/50\n",
      "15/15 [==============================] - 23s 2s/step - loss: 0.0665 - accuracy: 0.9793 - val_loss: 0.8172 - val_accuracy: 0.7077\n",
      "Epoch 30/50\n",
      "15/15 [==============================] - 22s 1s/step - loss: 0.0642 - accuracy: 0.9801 - val_loss: 0.6524 - val_accuracy: 0.7719\n",
      "Epoch 31/50\n",
      "15/15 [==============================] - 23s 2s/step - loss: 0.0623 - accuracy: 0.9807 - val_loss: 0.5665 - val_accuracy: 0.8025\n",
      "Epoch 32/50\n",
      "15/15 [==============================] - 24s 2s/step - loss: 0.0599 - accuracy: 0.9808 - val_loss: 0.4275 - val_accuracy: 0.8596\n",
      "Epoch 33/50\n",
      "15/15 [==============================] - 23s 1s/step - loss: 0.0615 - accuracy: 0.9806 - val_loss: 0.3175 - val_accuracy: 0.8997\n",
      "Epoch 34/50\n",
      "15/15 [==============================] - 23s 2s/step - loss: 0.0598 - accuracy: 0.9818 - val_loss: 0.2315 - val_accuracy: 0.9274\n",
      "Epoch 35/50\n",
      "15/15 [==============================] - 22s 1s/step - loss: 0.0582 - accuracy: 0.9811 - val_loss: 0.1793 - val_accuracy: 0.9436\n",
      "Epoch 36/50\n",
      "15/15 [==============================] - 23s 2s/step - loss: 0.0574 - accuracy: 0.9819 - val_loss: 0.1501 - val_accuracy: 0.9532\n",
      "Epoch 37/50\n",
      "15/15 [==============================] - 24s 2s/step - loss: 0.0557 - accuracy: 0.9828 - val_loss: 0.1304 - val_accuracy: 0.9594\n",
      "Epoch 38/50\n",
      "15/15 [==============================] - 24s 2s/step - loss: 0.0565 - accuracy: 0.9822 - val_loss: 0.1004 - val_accuracy: 0.9696\n",
      "Epoch 39/50\n",
      "15/15 [==============================] - 23s 2s/step - loss: 0.0542 - accuracy: 0.9830 - val_loss: 0.0886 - val_accuracy: 0.9735\n",
      "Epoch 40/50\n",
      "15/15 [==============================] - 23s 2s/step - loss: 0.0539 - accuracy: 0.9830 - val_loss: 0.0769 - val_accuracy: 0.9765\n",
      "Epoch 41/50\n",
      "15/15 [==============================] - 25s 2s/step - loss: 0.0516 - accuracy: 0.9837 - val_loss: 0.0678 - val_accuracy: 0.9796\n",
      "Epoch 42/50\n",
      "15/15 [==============================] - 26s 2s/step - loss: 0.0510 - accuracy: 0.9837 - val_loss: 0.0668 - val_accuracy: 0.9801\n",
      "Epoch 43/50\n",
      "15/15 [==============================] - 25s 2s/step - loss: 0.0505 - accuracy: 0.9843 - val_loss: 0.0636 - val_accuracy: 0.9816\n",
      "Epoch 44/50\n",
      "15/15 [==============================] - 26s 2s/step - loss: 0.0486 - accuracy: 0.9844 - val_loss: 0.0561 - val_accuracy: 0.9831\n",
      "Epoch 45/50\n",
      "15/15 [==============================] - 27s 2s/step - loss: 0.0482 - accuracy: 0.9839 - val_loss: 0.0506 - val_accuracy: 0.9858\n",
      "Epoch 46/50\n",
      "15/15 [==============================] - 27s 2s/step - loss: 0.0482 - accuracy: 0.9841 - val_loss: 0.0487 - val_accuracy: 0.9855\n",
      "Epoch 47/50\n",
      "15/15 [==============================] - 27s 2s/step - loss: 0.0468 - accuracy: 0.9849 - val_loss: 0.0454 - val_accuracy: 0.9868\n",
      "Epoch 48/50\n",
      "15/15 [==============================] - 25s 2s/step - loss: 0.0459 - accuracy: 0.9853 - val_loss: 0.0471 - val_accuracy: 0.9864\n",
      "Epoch 49/50\n",
      "15/15 [==============================] - 23s 2s/step - loss: 0.0458 - accuracy: 0.9850 - val_loss: 0.0486 - val_accuracy: 0.9851\n",
      "Epoch 50/50\n",
      "15/15 [==============================] - 23s 2s/step - loss: 0.0434 - accuracy: 0.9863 - val_loss: 0.0443 - val_accuracy: 0.9869\n"
     ]
    }
   ],
   "source": [
    "#CNN\n",
    "numberOfClass = y_train.shape[1]   #kaç tane class olduğunu anlamak içindir.\n",
    "\n",
    "model = Sequential()\n",
    "\n",
    "model.add(Conv2D(input_shape = (28,28,1), filters = 16, kernel_size = (3,3)))\n",
    "model.add(BatchNormalization())\n",
    "model.add(Activation(\"relu\"))\n",
    "model.add(MaxPooling2D())\n",
    "model.add(Dropout(0.2))\n",
    "\n",
    "model.add(Conv2D(filters=64, kernel_size=(3,3)))\n",
    "model.add(BatchNormalization())\n",
    "model.add(Activation(\"relu\"))\n",
    "model.add(MaxPooling2D())\n",
    "model.add(Dropout(0.2))\n",
    "\n",
    "model.add(Conv2D(filters=128, kernel_size = (3,3)))\n",
    "model.add(BatchNormalization())\n",
    "model.add(Activation(\"relu\"))\n",
    "model.add(MaxPooling2D())\n",
    "model.add(Dropout(0.2))\n",
    "\n",
    "\n",
    "model.add(Flatten())\n",
    "model.add(Dense(units=256))\n",
    "model.add(Activation(\"relu\"))\n",
    "model.add(Dropout(0.2))\n",
    "model.add(Dense(units=numberOfClass))\n",
    "model.add(Activation(\"softmax\"))\n",
    "\n",
    "model.compile(loss=\"categorical_crossentropy\",\n",
    "             optimizer = \"adam\",\n",
    "             metrics = [\"accuracy\"])\n",
    "\n",
    "hist = model.fit(x_train, y_train, validation_data=(x_test,y_test), epochs=50, batch_size=4000)"
   ]
  },
  {
   "cell_type": "markdown",
   "id": "5750d305",
   "metadata": {},
   "source": [
    "Modeli kaydedelim."
   ]
  },
  {
   "cell_type": "code",
   "execution_count": 12,
   "id": "da1d34e7",
   "metadata": {},
   "outputs": [],
   "source": [
    "model.save_weights(\"cnn_mnist_model.h5\")"
   ]
  },
  {
   "cell_type": "markdown",
   "id": "68f7cc11",
   "metadata": {},
   "source": [
    "Modeli görselleştirelim."
   ]
  },
  {
   "cell_type": "code",
   "execution_count": 13,
   "id": "0e2f50e5",
   "metadata": {},
   "outputs": [
    {
     "name": "stdout",
     "output_type": "stream",
     "text": [
      "dict_keys(['loss', 'accuracy', 'val_loss', 'val_accuracy'])\n"
     ]
    },
    {
     "data": {
      "image/png": "[encoded data removed]",
      "text/plain": [
       "<Figure size 432x288 with 1 Axes>"
      ]
     },
     "metadata": {
      "needs_background": "light"
     },
     "output_type": "display_data"
    },
    {
     "data": {
      "image/png": "[encoded data removed]",
      "text/plain": [
       "<Figure size 432x288 with 1 Axes>"
      ]
     },
     "metadata": {
      "needs_background": "light"
     },
     "output_type": "display_data"
    }
   ],
   "source": [
    "print(hist.history.keys())\n",
    "plt.plot(hist.history[\"loss\"], label=\"Train loss\")\n",
    "plt.plot(hist.history[\"val_loss\"], label=\"Validation Loss\")\n",
    "plt.legend()\n",
    "plt.show()\n",
    "plt.figure()\n",
    "plt.plot(hist.history[\"accuracy\"], label=\"Train Accuracy\")\n",
    "plt.plot(hist.history[\"val_accuracy\"], label=\"Validation Accuracy\")\n",
    "plt.legend()\n",
    "plt.show()"
   ]
  },
  {
   "cell_type": "code",
   "execution_count": 14,
   "id": "3ea3b493",
   "metadata": {},
   "outputs": [],
   "source": [
    "#save history\n",
    "import json\n",
    "with open('cnn_mnist_hist.json','w') as f:\n",
    "    json.dump(hist.history, f)"
   ]
  },
  {
   "cell_type": "code",
   "execution_count": 15,
   "id": "2cfbc916",
   "metadata": {},
   "outputs": [
    {
     "data": {
      "image/png": "[encoded data removed]",
      "text/plain": [
       "<Figure size 432x288 with 1 Axes>"
      ]
     },
     "metadata": {
      "needs_background": "light"
     },
     "output_type": "display_data"
    },
    {
     "data": {
      "image/png": "[encoded data removed]",
      "text/plain": [
       "<Figure size 432x288 with 1 Axes>"
      ]
     },
     "metadata": {
      "needs_background": "light"
     },
     "output_type": "display_data"
    }
   ],
   "source": [
    "#load history\n",
    "import codecs\n",
    "with codecs.open(\"cnn_mnist_hist.json\", 'r', encoding='utf-8') as f:\n",
    "    h = json.loads(f.read())\n",
    "    \n",
    "plt.figure()\n",
    "plt.plot(h[\"loss\"], label=\"Train Loss\")\n",
    "plt.plot(h[\"val_loss\"], label = \"Validation Loss\")\n",
    "plt.legend()\n",
    "plt.show()\n",
    "plt.figure()\n",
    "plt.plot(h[\"accuracy\"], label=\"Train Accuracy\")\n",
    "plt.plot(h[\"val_accuracy\"], label=\"Validation Accuracy\")\n",
    "plt.legend()\n",
    "plt.show()"
   ]
  }
 ],
 "metadata": {
  "kernelspec": {
   "display_name": "Python 3 (ipykernel)",
   "language": "python",
   "name": "python3"
  },
  "language_info": {
   "codemirror_mode": {
    "name": "ipython",
    "version": 3
   },
   "file_extension": ".py",
   "mimetype": "text/x-python",
   "name": "python",
   "nbconvert_exporter": "python",
   "pygments_lexer": "ipython3",
   "version": "3.9.12"
  }
 },
 "nbformat": 4,
 "nbformat_minor": 5
}
